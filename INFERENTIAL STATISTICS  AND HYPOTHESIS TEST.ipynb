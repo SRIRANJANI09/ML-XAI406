{
 "cells": [
  {
   "cell_type": "markdown",
   "id": "49de4190",
   "metadata": {},
   "source": [
    "# point interval estimation"
   ]
  },
  {
   "cell_type": "code",
   "execution_count": 1,
   "id": "3dcd2b7f",
   "metadata": {},
   "outputs": [],
   "source": [
    "import numpy as np\n",
    "from scipy.stats import t\n"
   ]
  },
  {
   "cell_type": "code",
   "execution_count": 2,
   "id": "cb78755d",
   "metadata": {},
   "outputs": [],
   "source": [
    "def mean_confidence_interval(data, confidence=0.95):\n",
    "    \n",
    "    n = len(data)\n",
    "    mean = np.mean(data)\n",
    "    std_err = np.std(data, ddof=1) / np.sqrt(n)\n",
    "    margin_of_error = std_err * t.ppf((1 + confidence) / 2, n - 1)\n",
    "    lower_bound = mean - margin_of_error\n",
    "    upper_bound = mean + margin_of_error\n",
    "    return mean, lower_bound, upper_bound\n"
   ]
  },
  {
   "cell_type": "code",
   "execution_count": 3,
   "id": "bc268a35",
   "metadata": {},
   "outputs": [
    {
     "name": "stdout",
     "output_type": "stream",
     "text": [
      "Mean: 9.5\n",
      "Confidence Interval (95%): [7.334149410386608, 11.665850589613392]\n"
     ]
    }
   ],
   "source": [
    "# Example usage:\n",
    "data = [5, 6, 7, 8, 9, 10, 11, 12, 13, 14]\n",
    "confidence_level = 0.95\n",
    "mean, lower_bound, upper_bound = mean_confidence_interval(data, confidence_level)\n",
    "print(f\"Mean: {mean}\")\n",
    "print(f\"Confidence Interval ({int(confidence_level * 100)}%): [{lower_bound}, {upper_bound}]\")"
   ]
  },
  {
   "cell_type": "markdown",
   "id": "10bf3ae1",
   "metadata": {},
   "source": [
    "# confidence_interval_hypothesis"
   ]
  },
  {
   "cell_type": "code",
   "execution_count": 12,
   "id": "d4ab4fdb",
   "metadata": {},
   "outputs": [
    {
     "name": "stdout",
     "output_type": "stream",
     "text": [
      "Null hypothesis not rejected: There is no significant difference between the means.\n",
      "Confidence Interval (95%): (-18.295261119358262, 30.295261119358262)\n"
     ]
    }
   ],
   "source": [
    "import numpy as np\n",
    "from scipy.stats import t\n",
    "\n",
    "def confidence_interval_hypothesis(data1, data2, confidence=0.95):\n",
    "   \n",
    "    n1 = len(data1)\n",
    "    n2 = len(data2)\n",
    "    mean1 = np.mean(data1)\n",
    "    mean2 = np.mean(data2)\n",
    "    std1 = np.std(data1, ddof=1)\n",
    "    std2 = np.std(data2, ddof=1)\n",
    "    std_err = np.sqrt((std1**2 / n1) + (std2**2 / n2))\n",
    "    t_critical = t.ppf((1 + confidence) / 2, n1 + n2 - 2)\n",
    "    \n",
    "    # Hypothesis testing\n",
    "    t_statistic = (mean1 - mean2) / std_err\n",
    "    reject_null = np.abs(t_statistic) > t_critical\n",
    "    \n",
    "    # Confidence interval calculation\n",
    "    mean_diff = mean1 - mean2\n",
    "    margin_of_error = t_critical * std_err\n",
    "    lower_bound = mean_diff - margin_of_error\n",
    "    upper_bound = mean_diff + margin_of_error\n",
    "    \n",
    "    return reject_null, (lower_bound, upper_bound)\n",
    "\n",
    "# Example usage:\n",
    "data1 = [30, 40, 50, 60, 70]\n",
    "data2 = [20, 35, 45, 55, 65]\n",
    "confidence_level = 0.95\n",
    "reject_null, confidence_interval = confidence_interval_hypothesis(data1, data2, confidence_level)\n",
    "\n",
    "if reject_null:\n",
    "    print(\"Null hypothesis rejected: There is a significant difference between the means.\")\n",
    "else:\n",
    "    print(\"Null hypothesis not rejected: There is no significant difference between the means.\")\n",
    "\n",
    "print(f\"Confidence Interval ({int(confidence_level * 100)}%): {confidence_interval}\")\n"
   ]
  },
  {
   "cell_type": "markdown",
   "id": "a0f527d0",
   "metadata": {},
   "source": [
    "# hypothesis test "
   ]
  },
  {
   "cell_type": "code",
   "execution_count": 13,
   "id": "ef932cff",
   "metadata": {},
   "outputs": [
    {
     "name": "stdout",
     "output_type": "stream",
     "text": [
      "Fail to reject the null hypothesis: There is no significant difference between the means.\n",
      "t-statistic: 0.4472135954999579\n",
      "p-value: 0.6665811073830707\n"
     ]
    }
   ],
   "source": [
    "import numpy as np\n",
    "from scipy.stats import t\n",
    "\n",
    "def student_t_test(sample1, sample2, alpha=0.05):\n",
    "   \n",
    "    n1 = len(sample1)\n",
    "    n2 = len(sample2)\n",
    "    mean1 = np.mean(sample1)\n",
    "    mean2 = np.mean(sample2)\n",
    "    std1 = np.std(sample1, ddof=1)\n",
    "    std2 = np.std(sample2, ddof=1)\n",
    "    \n",
    "    pooled_std = np.sqrt((std1**2 / n1) + (std2**2 / n2))\n",
    "    t_statistic = (mean1 - mean2) / pooled_std\n",
    "    degrees_of_freedom = n1 + n2 - 2\n",
    "    p_value = 2 * (1 - t.cdf(abs(t_statistic), df=degrees_of_freedom))\n",
    "\n",
    "    reject_null = p_value < alpha\n",
    "\n",
    "    return reject_null, t_statistic, p_value\n",
    "\n",
    "# Example usage:\n",
    "sample1 = [23, 25, 28, 32, 27]\n",
    "sample2 = [21, 24, 26, 29, 30]\n",
    "alpha = 0.05\n",
    "\n",
    "reject_null, t_statistic, p_value = student_t_test(sample1, sample2, alpha)\n",
    "\n",
    "if reject_null:\n",
    "    print(\"Reject the null hypothesis: There is a significant difference between the means.\")\n",
    "else:\n",
    "    print(\"Fail to reject the null hypothesis: There is no significant difference between the means.\")\n",
    "\n",
    "print(f\"t-statistic: {t_statistic}\")\n",
    "print(f\"p-value: {p_value}\")\n"
   ]
  },
  {
   "cell_type": "markdown",
   "id": "5ad0862e",
   "metadata": {},
   "source": [
    "# one-tailed_t_test"
   ]
  },
  {
   "cell_type": "code",
   "execution_count": 14,
   "id": "c2c2fc6d",
   "metadata": {},
   "outputs": [
    {
     "name": "stdout",
     "output_type": "stream",
     "text": [
      "Reject the null hypothesis: The sample mean is significantly greater than the null mean.\n",
      "t-statistic: 2.2568861459217144\n",
      "p-value: 0.02929994223433796\n"
     ]
    }
   ],
   "source": [
    "import numpy as np\n",
    "from scipy.stats import t\n",
    "\n",
    "def one_tailed_t_test(sample, null_mean, alternative='greater', alpha=0.05):\n",
    "    \n",
    "    n = len(sample)\n",
    "    sample_mean = np.mean(sample)\n",
    "    sample_std = np.std(sample, ddof=1)\n",
    "    t_statistic = (sample_mean - null_mean) / (sample_std / np.sqrt(n))\n",
    "    \n",
    "    if alternative == 'greater':\n",
    "        p_value = 1 - t.cdf(t_statistic, df=n - 1)\n",
    "        reject_null = p_value < alpha\n",
    "    elif alternative == 'less':\n",
    "        p_value = t.cdf(t_statistic, df=n - 1)\n",
    "        reject_null = p_value < alpha\n",
    "    else:\n",
    "        raise ValueError(\"Invalid alternative hypothesis. Choose either 'greater' or 'less'.\")\n",
    "\n",
    "    return reject_null, t_statistic, p_value\n",
    "\n",
    "# Example usage:\n",
    "sample = [11, 12, 14, 15, 16, 18, 20, 21]\n",
    "null_mean = 13\n",
    "alternative = 'greater'\n",
    "alpha = 0.05\n",
    "\n",
    "reject_null, t_statistic, p_value = one_tailed_t_test(sample, null_mean, alternative, alpha)\n",
    "\n",
    "if reject_null:\n",
    "    print(\"Reject the null hypothesis: The sample mean is significantly greater than the null mean.\")\n",
    "else:\n",
    "    print(\"Fail to reject the null hypothesis: The sample mean is not significantly greater than the null mean.\")\n",
    "\n",
    "print(f\"t-statistic: {t_statistic}\")\n",
    "print(f\"p-value: {p_value}\")\n"
   ]
  },
  {
   "cell_type": "markdown",
   "id": "b9314a7c",
   "metadata": {},
   "source": [
    "# two_tailed_t_test\n"
   ]
  },
  {
   "cell_type": "code",
   "execution_count": 15,
   "id": "a85001d2",
   "metadata": {},
   "outputs": [
    {
     "name": "stdout",
     "output_type": "stream",
     "text": [
      "Fail to reject the null hypothesis: The sample mean is not significantly different from the null mean.\n",
      "t-statistic: 2.2568861459217144\n",
      "p-value: 0.05859988446867592\n"
     ]
    }
   ],
   "source": [
    "import numpy as np\n",
    "from scipy.stats import t\n",
    "\n",
    "def two_tailed_t_test(sample, null_mean, alpha=0.05):\n",
    "   \n",
    "    n = len(sample)\n",
    "    sample_mean = np.mean(sample)\n",
    "    sample_std = np.std(sample, ddof=1)\n",
    "    t_statistic = (sample_mean - null_mean) / (sample_std / np.sqrt(n))\n",
    "    degrees_of_freedom = n - 1\n",
    "    \n",
    "    p_value = 2 * (1 - t.cdf(abs(t_statistic), df=degrees_of_freedom))\n",
    "\n",
    "    reject_null = p_value < alpha\n",
    "\n",
    "    return reject_null, t_statistic, p_value\n",
    "\n",
    "# Example usage:\n",
    "sample = [11, 12, 14, 15, 16, 18, 20, 21]\n",
    "null_mean = 13\n",
    "alpha = 0.05\n",
    "\n",
    "reject_null, t_statistic, p_value = two_tailed_t_test(sample, null_mean, alpha)\n",
    "\n",
    "if reject_null:\n",
    "    print(\"Reject the null hypothesis: The sample mean is significantly different from the null mean.\")\n",
    "else:\n",
    "    print(\"Fail to reject the null hypothesis: The sample mean is not significantly different from the null mean.\")\n",
    "\n",
    "print(f\"t-statistic: {t_statistic}\")\n",
    "print(f\"p-value: {p_value}\")\n"
   ]
  },
  {
   "cell_type": "code",
   "execution_count": null,
   "id": "652234f7",
   "metadata": {},
   "outputs": [],
   "source": []
  }
 ],
 "metadata": {
  "kernelspec": {
   "display_name": "Python 3 (ipykernel)",
   "language": "python",
   "name": "python3"
  },
  "language_info": {
   "codemirror_mode": {
    "name": "ipython",
    "version": 3
   },
   "file_extension": ".py",
   "mimetype": "text/x-python",
   "name": "python",
   "nbconvert_exporter": "python",
   "pygments_lexer": "ipython3",
   "version": "3.10.11"
  }
 },
 "nbformat": 4,
 "nbformat_minor": 5
}
