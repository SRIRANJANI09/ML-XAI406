{
 "cells": [
  {
   "cell_type": "markdown",
   "id": "de7bcc4c",
   "metadata": {},
   "source": [
    "# working random variables"
   ]
  },
  {
   "cell_type": "code",
   "execution_count": 1,
   "id": "7cd8994c",
   "metadata": {},
   "outputs": [],
   "source": [
    "import pandas as pd\n",
    "import numpy as np"
   ]
  },
  {
   "cell_type": "code",
   "execution_count": 2,
   "id": "af1606cc",
   "metadata": {},
   "outputs": [],
   "source": [
    "cot_num=pd.DataFrame(np.random.rand(15,1),columns=['Random'])"
   ]
  },
  {
   "cell_type": "code",
   "execution_count": 3,
   "id": "8d344e0a",
   "metadata": {},
   "outputs": [
    {
     "data": {
      "text/html": [
       "<div>\n",
       "<style scoped>\n",
       "    .dataframe tbody tr th:only-of-type {\n",
       "        vertical-align: middle;\n",
       "    }\n",
       "\n",
       "    .dataframe tbody tr th {\n",
       "        vertical-align: top;\n",
       "    }\n",
       "\n",
       "    .dataframe thead th {\n",
       "        text-align: right;\n",
       "    }\n",
       "</style>\n",
       "<table border=\"1\" class=\"dataframe\">\n",
       "  <thead>\n",
       "    <tr style=\"text-align: right;\">\n",
       "      <th></th>\n",
       "      <th>Random</th>\n",
       "    </tr>\n",
       "  </thead>\n",
       "  <tbody>\n",
       "    <tr>\n",
       "      <th>0</th>\n",
       "      <td>0.570000</td>\n",
       "    </tr>\n",
       "    <tr>\n",
       "      <th>1</th>\n",
       "      <td>0.788356</td>\n",
       "    </tr>\n",
       "    <tr>\n",
       "      <th>2</th>\n",
       "      <td>0.014051</td>\n",
       "    </tr>\n",
       "    <tr>\n",
       "      <th>3</th>\n",
       "      <td>0.205365</td>\n",
       "    </tr>\n",
       "    <tr>\n",
       "      <th>4</th>\n",
       "      <td>0.050539</td>\n",
       "    </tr>\n",
       "    <tr>\n",
       "      <th>5</th>\n",
       "      <td>0.485431</td>\n",
       "    </tr>\n",
       "    <tr>\n",
       "      <th>6</th>\n",
       "      <td>0.485018</td>\n",
       "    </tr>\n",
       "    <tr>\n",
       "      <th>7</th>\n",
       "      <td>0.665077</td>\n",
       "    </tr>\n",
       "    <tr>\n",
       "      <th>8</th>\n",
       "      <td>0.508624</td>\n",
       "    </tr>\n",
       "    <tr>\n",
       "      <th>9</th>\n",
       "      <td>0.256992</td>\n",
       "    </tr>\n",
       "    <tr>\n",
       "      <th>10</th>\n",
       "      <td>0.096872</td>\n",
       "    </tr>\n",
       "    <tr>\n",
       "      <th>11</th>\n",
       "      <td>0.323394</td>\n",
       "    </tr>\n",
       "    <tr>\n",
       "      <th>12</th>\n",
       "      <td>0.671228</td>\n",
       "    </tr>\n",
       "    <tr>\n",
       "      <th>13</th>\n",
       "      <td>0.771215</td>\n",
       "    </tr>\n",
       "    <tr>\n",
       "      <th>14</th>\n",
       "      <td>0.529613</td>\n",
       "    </tr>\n",
       "  </tbody>\n",
       "</table>\n",
       "</div>"
      ],
      "text/plain": [
       "      Random\n",
       "0   0.570000\n",
       "1   0.788356\n",
       "2   0.014051\n",
       "3   0.205365\n",
       "4   0.050539\n",
       "5   0.485431\n",
       "6   0.485018\n",
       "7   0.665077\n",
       "8   0.508624\n",
       "9   0.256992\n",
       "10  0.096872\n",
       "11  0.323394\n",
       "12  0.671228\n",
       "13  0.771215\n",
       "14  0.529613"
      ]
     },
     "execution_count": 3,
     "metadata": {},
     "output_type": "execute_result"
    }
   ],
   "source": [
    "cot_num"
   ]
  },
  {
   "cell_type": "raw",
   "id": "6d272cea",
   "metadata": {},
   "source": [
    "create randaom integer number->randint"
   ]
  },
  {
   "cell_type": "code",
   "execution_count": 4,
   "id": "c5e5292d",
   "metadata": {},
   "outputs": [],
   "source": [
    "dis_num=pd.DataFrame(np.random.randint(0,2,15),columns=['Discrete'])"
   ]
  },
  {
   "cell_type": "code",
   "execution_count": 5,
   "id": "9e43dd07",
   "metadata": {},
   "outputs": [
    {
     "data": {
      "text/html": [
       "<div>\n",
       "<style scoped>\n",
       "    .dataframe tbody tr th:only-of-type {\n",
       "        vertical-align: middle;\n",
       "    }\n",
       "\n",
       "    .dataframe tbody tr th {\n",
       "        vertical-align: top;\n",
       "    }\n",
       "\n",
       "    .dataframe thead th {\n",
       "        text-align: right;\n",
       "    }\n",
       "</style>\n",
       "<table border=\"1\" class=\"dataframe\">\n",
       "  <thead>\n",
       "    <tr style=\"text-align: right;\">\n",
       "      <th></th>\n",
       "      <th>Discrete</th>\n",
       "    </tr>\n",
       "  </thead>\n",
       "  <tbody>\n",
       "    <tr>\n",
       "      <th>0</th>\n",
       "      <td>1</td>\n",
       "    </tr>\n",
       "    <tr>\n",
       "      <th>1</th>\n",
       "      <td>0</td>\n",
       "    </tr>\n",
       "    <tr>\n",
       "      <th>2</th>\n",
       "      <td>1</td>\n",
       "    </tr>\n",
       "    <tr>\n",
       "      <th>3</th>\n",
       "      <td>0</td>\n",
       "    </tr>\n",
       "    <tr>\n",
       "      <th>4</th>\n",
       "      <td>1</td>\n",
       "    </tr>\n",
       "    <tr>\n",
       "      <th>5</th>\n",
       "      <td>0</td>\n",
       "    </tr>\n",
       "    <tr>\n",
       "      <th>6</th>\n",
       "      <td>0</td>\n",
       "    </tr>\n",
       "    <tr>\n",
       "      <th>7</th>\n",
       "      <td>0</td>\n",
       "    </tr>\n",
       "    <tr>\n",
       "      <th>8</th>\n",
       "      <td>1</td>\n",
       "    </tr>\n",
       "    <tr>\n",
       "      <th>9</th>\n",
       "      <td>0</td>\n",
       "    </tr>\n",
       "    <tr>\n",
       "      <th>10</th>\n",
       "      <td>1</td>\n",
       "    </tr>\n",
       "    <tr>\n",
       "      <th>11</th>\n",
       "      <td>0</td>\n",
       "    </tr>\n",
       "    <tr>\n",
       "      <th>12</th>\n",
       "      <td>0</td>\n",
       "    </tr>\n",
       "    <tr>\n",
       "      <th>13</th>\n",
       "      <td>1</td>\n",
       "    </tr>\n",
       "    <tr>\n",
       "      <th>14</th>\n",
       "      <td>1</td>\n",
       "    </tr>\n",
       "  </tbody>\n",
       "</table>\n",
       "</div>"
      ],
      "text/plain": [
       "    Discrete\n",
       "0          1\n",
       "1          0\n",
       "2          1\n",
       "3          0\n",
       "4          1\n",
       "5          0\n",
       "6          0\n",
       "7          0\n",
       "8          1\n",
       "9          0\n",
       "10         1\n",
       "11         0\n",
       "12         0\n",
       "13         1\n",
       "14         1"
      ]
     },
     "execution_count": 5,
     "metadata": {},
     "output_type": "execute_result"
    }
   ],
   "source": [
    "dis_num"
   ]
  },
  {
   "cell_type": "raw",
   "id": "2369825a",
   "metadata": {},
   "source": [
    "mean-0\n",
    "standard deviation-2"
   ]
  },
  {
   "cell_type": "code",
   "execution_count": 6,
   "id": "9c48fcd7",
   "metadata": {},
   "outputs": [],
   "source": [
    "ordinal=pd.DataFrame({'salary':[17000,37000,79000,83000],\n",
    "                      'class':['low','medium','high','high']})"
   ]
  },
  {
   "cell_type": "code",
   "execution_count": 7,
   "id": "881c923c",
   "metadata": {
    "scrolled": true
   },
   "outputs": [
    {
     "data": {
      "text/html": [
       "<div>\n",
       "<style scoped>\n",
       "    .dataframe tbody tr th:only-of-type {\n",
       "        vertical-align: middle;\n",
       "    }\n",
       "\n",
       "    .dataframe tbody tr th {\n",
       "        vertical-align: top;\n",
       "    }\n",
       "\n",
       "    .dataframe thead th {\n",
       "        text-align: right;\n",
       "    }\n",
       "</style>\n",
       "<table border=\"1\" class=\"dataframe\">\n",
       "  <thead>\n",
       "    <tr style=\"text-align: right;\">\n",
       "      <th></th>\n",
       "      <th>salary</th>\n",
       "      <th>class</th>\n",
       "    </tr>\n",
       "  </thead>\n",
       "  <tbody>\n",
       "    <tr>\n",
       "      <th>0</th>\n",
       "      <td>17000</td>\n",
       "      <td>low</td>\n",
       "    </tr>\n",
       "    <tr>\n",
       "      <th>1</th>\n",
       "      <td>37000</td>\n",
       "      <td>medium</td>\n",
       "    </tr>\n",
       "    <tr>\n",
       "      <th>2</th>\n",
       "      <td>79000</td>\n",
       "      <td>high</td>\n",
       "    </tr>\n",
       "    <tr>\n",
       "      <th>3</th>\n",
       "      <td>83000</td>\n",
       "      <td>high</td>\n",
       "    </tr>\n",
       "  </tbody>\n",
       "</table>\n",
       "</div>"
      ],
      "text/plain": [
       "   salary   class\n",
       "0   17000     low\n",
       "1   37000  medium\n",
       "2   79000    high\n",
       "3   83000    high"
      ]
     },
     "execution_count": 7,
     "metadata": {},
     "output_type": "execute_result"
    }
   ],
   "source": [
    "ordinal"
   ]
  },
  {
   "cell_type": "raw",
   "id": "4f917b6e",
   "metadata": {},
   "source": [
    "without providing any quantitative data"
   ]
  },
  {
   "cell_type": "code",
   "execution_count": 8,
   "id": "10e048a5",
   "metadata": {},
   "outputs": [],
   "source": [
    "nominal =pd.DataFrame({'age':[52,38,19,31],\n",
    "                        'gender':['male','female','female','male']})"
   ]
  },
  {
   "cell_type": "code",
   "execution_count": 9,
   "id": "33a5234b",
   "metadata": {},
   "outputs": [
    {
     "data": {
      "text/html": [
       "<div>\n",
       "<style scoped>\n",
       "    .dataframe tbody tr th:only-of-type {\n",
       "        vertical-align: middle;\n",
       "    }\n",
       "\n",
       "    .dataframe tbody tr th {\n",
       "        vertical-align: top;\n",
       "    }\n",
       "\n",
       "    .dataframe thead th {\n",
       "        text-align: right;\n",
       "    }\n",
       "</style>\n",
       "<table border=\"1\" class=\"dataframe\">\n",
       "  <thead>\n",
       "    <tr style=\"text-align: right;\">\n",
       "      <th></th>\n",
       "      <th>age</th>\n",
       "      <th>gender</th>\n",
       "    </tr>\n",
       "  </thead>\n",
       "  <tbody>\n",
       "    <tr>\n",
       "      <th>0</th>\n",
       "      <td>52</td>\n",
       "      <td>male</td>\n",
       "    </tr>\n",
       "    <tr>\n",
       "      <th>1</th>\n",
       "      <td>38</td>\n",
       "      <td>female</td>\n",
       "    </tr>\n",
       "    <tr>\n",
       "      <th>2</th>\n",
       "      <td>19</td>\n",
       "      <td>female</td>\n",
       "    </tr>\n",
       "    <tr>\n",
       "      <th>3</th>\n",
       "      <td>31</td>\n",
       "      <td>male</td>\n",
       "    </tr>\n",
       "  </tbody>\n",
       "</table>\n",
       "</div>"
      ],
      "text/plain": [
       "   age  gender\n",
       "0   52    male\n",
       "1   38  female\n",
       "2   19  female\n",
       "3   31    male"
      ]
     },
     "execution_count": 9,
     "metadata": {},
     "output_type": "execute_result"
    }
   ],
   "source": [
    "nominal"
   ]
  },
  {
   "cell_type": "code",
   "execution_count": 10,
   "id": "225056b2",
   "metadata": {},
   "outputs": [],
   "source": [
    "import pandas as pd\n",
    "import numpy as np"
   ]
  },
  {
   "cell_type": "code",
   "execution_count": 11,
   "id": "29568b9f",
   "metadata": {},
   "outputs": [],
   "source": [
    "dataset=pd.read_csv(\"C:/Users/Admin/Documents/SEM 4 ML(sri)/dataset/Data.csv\")"
   ]
  },
  {
   "cell_type": "code",
   "execution_count": 12,
   "id": "c031aa0e",
   "metadata": {},
   "outputs": [
    {
     "data": {
      "text/html": [
       "<div>\n",
       "<style scoped>\n",
       "    .dataframe tbody tr th:only-of-type {\n",
       "        vertical-align: middle;\n",
       "    }\n",
       "\n",
       "    .dataframe tbody tr th {\n",
       "        vertical-align: top;\n",
       "    }\n",
       "\n",
       "    .dataframe thead th {\n",
       "        text-align: right;\n",
       "    }\n",
       "</style>\n",
       "<table border=\"1\" class=\"dataframe\">\n",
       "  <thead>\n",
       "    <tr style=\"text-align: right;\">\n",
       "      <th></th>\n",
       "      <th>Country</th>\n",
       "      <th>Age</th>\n",
       "      <th>Salary</th>\n",
       "      <th>Purchased</th>\n",
       "    </tr>\n",
       "  </thead>\n",
       "  <tbody>\n",
       "    <tr>\n",
       "      <th>0</th>\n",
       "      <td>France</td>\n",
       "      <td>44.0</td>\n",
       "      <td>72000.0</td>\n",
       "      <td>No</td>\n",
       "    </tr>\n",
       "    <tr>\n",
       "      <th>1</th>\n",
       "      <td>Spain</td>\n",
       "      <td>27.0</td>\n",
       "      <td>48000.0</td>\n",
       "      <td>Yes</td>\n",
       "    </tr>\n",
       "    <tr>\n",
       "      <th>2</th>\n",
       "      <td>Germany</td>\n",
       "      <td>30.0</td>\n",
       "      <td>54000.0</td>\n",
       "      <td>No</td>\n",
       "    </tr>\n",
       "    <tr>\n",
       "      <th>3</th>\n",
       "      <td>Spain</td>\n",
       "      <td>38.0</td>\n",
       "      <td>61000.0</td>\n",
       "      <td>No</td>\n",
       "    </tr>\n",
       "    <tr>\n",
       "      <th>4</th>\n",
       "      <td>Germany</td>\n",
       "      <td>40.0</td>\n",
       "      <td>NaN</td>\n",
       "      <td>Yes</td>\n",
       "    </tr>\n",
       "    <tr>\n",
       "      <th>5</th>\n",
       "      <td>France</td>\n",
       "      <td>NaN</td>\n",
       "      <td>58000.0</td>\n",
       "      <td>Yes</td>\n",
       "    </tr>\n",
       "    <tr>\n",
       "      <th>6</th>\n",
       "      <td>Spain</td>\n",
       "      <td>NaN</td>\n",
       "      <td>52000.0</td>\n",
       "      <td>No</td>\n",
       "    </tr>\n",
       "    <tr>\n",
       "      <th>7</th>\n",
       "      <td>France</td>\n",
       "      <td>48.0</td>\n",
       "      <td>79000.0</td>\n",
       "      <td>Yes</td>\n",
       "    </tr>\n",
       "    <tr>\n",
       "      <th>8</th>\n",
       "      <td>Germany</td>\n",
       "      <td>50.0</td>\n",
       "      <td>83000.0</td>\n",
       "      <td>No</td>\n",
       "    </tr>\n",
       "    <tr>\n",
       "      <th>9</th>\n",
       "      <td>France</td>\n",
       "      <td>37.0</td>\n",
       "      <td>NaN</td>\n",
       "      <td>Yes</td>\n",
       "    </tr>\n",
       "  </tbody>\n",
       "</table>\n",
       "</div>"
      ],
      "text/plain": [
       "   Country   Age   Salary Purchased\n",
       "0   France  44.0  72000.0        No\n",
       "1    Spain  27.0  48000.0       Yes\n",
       "2  Germany  30.0  54000.0        No\n",
       "3    Spain  38.0  61000.0        No\n",
       "4  Germany  40.0      NaN       Yes\n",
       "5   France   NaN  58000.0       Yes\n",
       "6    Spain   NaN  52000.0        No\n",
       "7   France  48.0  79000.0       Yes\n",
       "8  Germany  50.0  83000.0        No\n",
       "9   France  37.0      NaN       Yes"
      ]
     },
     "execution_count": 12,
     "metadata": {},
     "output_type": "execute_result"
    }
   ],
   "source": [
    "dataset"
   ]
  },
  {
   "cell_type": "code",
   "execution_count": 13,
   "id": "f5621165",
   "metadata": {},
   "outputs": [],
   "source": [
    "x=dataset.iloc[:,:-1].values\n",
    "y=dataset.iloc[:,-1].values"
   ]
  },
  {
   "cell_type": "raw",
   "id": "3ce67655",
   "metadata": {},
   "source": [
    "y->dependent value,x->independent value"
   ]
  },
  {
   "cell_type": "code",
   "execution_count": 14,
   "id": "4cb27d8a",
   "metadata": {
    "scrolled": true
   },
   "outputs": [
    {
     "data": {
      "text/plain": [
       "array([['France', 44.0, 72000.0],\n",
       "       ['Spain', 27.0, 48000.0],\n",
       "       ['Germany', 30.0, 54000.0],\n",
       "       ['Spain', 38.0, 61000.0],\n",
       "       ['Germany', 40.0, nan],\n",
       "       ['France', nan, 58000.0],\n",
       "       ['Spain', nan, 52000.0],\n",
       "       ['France', 48.0, 79000.0],\n",
       "       ['Germany', 50.0, 83000.0],\n",
       "       ['France', 37.0, nan]], dtype=object)"
      ]
     },
     "execution_count": 14,
     "metadata": {},
     "output_type": "execute_result"
    }
   ],
   "source": [
    "x"
   ]
  },
  {
   "cell_type": "code",
   "execution_count": 15,
   "id": "91733803",
   "metadata": {},
   "outputs": [
    {
     "data": {
      "text/plain": [
       "array(['No', 'Yes', 'No', 'No', 'Yes', 'Yes', 'No', 'Yes', 'No', 'Yes'],\n",
       "      dtype=object)"
      ]
     },
     "execution_count": 15,
     "metadata": {},
     "output_type": "execute_result"
    }
   ],
   "source": [
    "y"
   ]
  },
  {
   "cell_type": "code",
   "execution_count": 16,
   "id": "be4bf16e",
   "metadata": {
    "scrolled": true
   },
   "outputs": [
    {
     "data": {
      "text/plain": [
       "Country      0\n",
       "Age          2\n",
       "Salary       2\n",
       "Purchased    0\n",
       "dtype: int64"
      ]
     },
     "execution_count": 16,
     "metadata": {},
     "output_type": "execute_result"
    }
   ],
   "source": [
    "dataset.isnull().sum()"
   ]
  },
  {
   "cell_type": "raw",
   "id": "c975dbf9",
   "metadata": {},
   "source": [
    "adding null ->sum"
   ]
  },
  {
   "cell_type": "code",
   "execution_count": 17,
   "id": "40946457",
   "metadata": {
    "scrolled": true
   },
   "outputs": [
    {
     "data": {
      "text/html": [
       "<div>\n",
       "<style scoped>\n",
       "    .dataframe tbody tr th:only-of-type {\n",
       "        vertical-align: middle;\n",
       "    }\n",
       "\n",
       "    .dataframe tbody tr th {\n",
       "        vertical-align: top;\n",
       "    }\n",
       "\n",
       "    .dataframe thead th {\n",
       "        text-align: right;\n",
       "    }\n",
       "</style>\n",
       "<table border=\"1\" class=\"dataframe\">\n",
       "  <thead>\n",
       "    <tr style=\"text-align: right;\">\n",
       "      <th></th>\n",
       "      <th>Country</th>\n",
       "      <th>Age</th>\n",
       "      <th>Salary</th>\n",
       "      <th>Purchased</th>\n",
       "    </tr>\n",
       "  </thead>\n",
       "  <tbody>\n",
       "    <tr>\n",
       "      <th>0</th>\n",
       "      <td>False</td>\n",
       "      <td>False</td>\n",
       "      <td>False</td>\n",
       "      <td>False</td>\n",
       "    </tr>\n",
       "    <tr>\n",
       "      <th>1</th>\n",
       "      <td>False</td>\n",
       "      <td>False</td>\n",
       "      <td>False</td>\n",
       "      <td>False</td>\n",
       "    </tr>\n",
       "    <tr>\n",
       "      <th>2</th>\n",
       "      <td>False</td>\n",
       "      <td>False</td>\n",
       "      <td>False</td>\n",
       "      <td>False</td>\n",
       "    </tr>\n",
       "    <tr>\n",
       "      <th>3</th>\n",
       "      <td>False</td>\n",
       "      <td>False</td>\n",
       "      <td>False</td>\n",
       "      <td>False</td>\n",
       "    </tr>\n",
       "    <tr>\n",
       "      <th>4</th>\n",
       "      <td>False</td>\n",
       "      <td>False</td>\n",
       "      <td>True</td>\n",
       "      <td>False</td>\n",
       "    </tr>\n",
       "    <tr>\n",
       "      <th>5</th>\n",
       "      <td>False</td>\n",
       "      <td>True</td>\n",
       "      <td>False</td>\n",
       "      <td>False</td>\n",
       "    </tr>\n",
       "    <tr>\n",
       "      <th>6</th>\n",
       "      <td>False</td>\n",
       "      <td>True</td>\n",
       "      <td>False</td>\n",
       "      <td>False</td>\n",
       "    </tr>\n",
       "    <tr>\n",
       "      <th>7</th>\n",
       "      <td>False</td>\n",
       "      <td>False</td>\n",
       "      <td>False</td>\n",
       "      <td>False</td>\n",
       "    </tr>\n",
       "    <tr>\n",
       "      <th>8</th>\n",
       "      <td>False</td>\n",
       "      <td>False</td>\n",
       "      <td>False</td>\n",
       "      <td>False</td>\n",
       "    </tr>\n",
       "    <tr>\n",
       "      <th>9</th>\n",
       "      <td>False</td>\n",
       "      <td>False</td>\n",
       "      <td>True</td>\n",
       "      <td>False</td>\n",
       "    </tr>\n",
       "  </tbody>\n",
       "</table>\n",
       "</div>"
      ],
      "text/plain": [
       "   Country    Age  Salary  Purchased\n",
       "0    False  False   False      False\n",
       "1    False  False   False      False\n",
       "2    False  False   False      False\n",
       "3    False  False   False      False\n",
       "4    False  False    True      False\n",
       "5    False   True   False      False\n",
       "6    False   True   False      False\n",
       "7    False  False   False      False\n",
       "8    False  False   False      False\n",
       "9    False  False    True      False"
      ]
     },
     "execution_count": 17,
     "metadata": {},
     "output_type": "execute_result"
    }
   ],
   "source": [
    "dataset.isnull()"
   ]
  },
  {
   "cell_type": "code",
   "execution_count": 18,
   "id": "3d99b1b2",
   "metadata": {},
   "outputs": [],
   "source": [
    "from sklearn.impute import SimpleImputer"
   ]
  },
  {
   "cell_type": "raw",
   "id": "490c61a4",
   "metadata": {},
   "source": [
    "Imputer used to fill the missing values"
   ]
  },
  {
   "cell_type": "code",
   "execution_count": 19,
   "id": "9ec6d3bd",
   "metadata": {},
   "outputs": [],
   "source": [
    "Imputer =SimpleImputer(missing_values=np.nan,strategy='mean')"
   ]
  },
  {
   "cell_type": "markdown",
   "id": "e6fb3b37",
   "metadata": {},
   "source": [
    "# fitting the values in imputer"
   ]
  },
  {
   "cell_type": "code",
   "execution_count": 20,
   "id": "59055b24",
   "metadata": {},
   "outputs": [
    {
     "data": {
      "text/html": [
       "<style>#sk-container-id-1 {color: black;}#sk-container-id-1 pre{padding: 0;}#sk-container-id-1 div.sk-toggleable {background-color: white;}#sk-container-id-1 label.sk-toggleable__label {cursor: pointer;display: block;width: 100%;margin-bottom: 0;padding: 0.3em;box-sizing: border-box;text-align: center;}#sk-container-id-1 label.sk-toggleable__label-arrow:before {content: \"▸\";float: left;margin-right: 0.25em;color: #696969;}#sk-container-id-1 label.sk-toggleable__label-arrow:hover:before {color: black;}#sk-container-id-1 div.sk-estimator:hover label.sk-toggleable__label-arrow:before {color: black;}#sk-container-id-1 div.sk-toggleable__content {max-height: 0;max-width: 0;overflow: hidden;text-align: left;background-color: #f0f8ff;}#sk-container-id-1 div.sk-toggleable__content pre {margin: 0.2em;color: black;border-radius: 0.25em;background-color: #f0f8ff;}#sk-container-id-1 input.sk-toggleable__control:checked~div.sk-toggleable__content {max-height: 200px;max-width: 100%;overflow: auto;}#sk-container-id-1 input.sk-toggleable__control:checked~label.sk-toggleable__label-arrow:before {content: \"▾\";}#sk-container-id-1 div.sk-estimator input.sk-toggleable__control:checked~label.sk-toggleable__label {background-color: #d4ebff;}#sk-container-id-1 div.sk-label input.sk-toggleable__control:checked~label.sk-toggleable__label {background-color: #d4ebff;}#sk-container-id-1 input.sk-hidden--visually {border: 0;clip: rect(1px 1px 1px 1px);clip: rect(1px, 1px, 1px, 1px);height: 1px;margin: -1px;overflow: hidden;padding: 0;position: absolute;width: 1px;}#sk-container-id-1 div.sk-estimator {font-family: monospace;background-color: #f0f8ff;border: 1px dotted black;border-radius: 0.25em;box-sizing: border-box;margin-bottom: 0.5em;}#sk-container-id-1 div.sk-estimator:hover {background-color: #d4ebff;}#sk-container-id-1 div.sk-parallel-item::after {content: \"\";width: 100%;border-bottom: 1px solid gray;flex-grow: 1;}#sk-container-id-1 div.sk-label:hover label.sk-toggleable__label {background-color: #d4ebff;}#sk-container-id-1 div.sk-serial::before {content: \"\";position: absolute;border-left: 1px solid gray;box-sizing: border-box;top: 0;bottom: 0;left: 50%;z-index: 0;}#sk-container-id-1 div.sk-serial {display: flex;flex-direction: column;align-items: center;background-color: white;padding-right: 0.2em;padding-left: 0.2em;position: relative;}#sk-container-id-1 div.sk-item {position: relative;z-index: 1;}#sk-container-id-1 div.sk-parallel {display: flex;align-items: stretch;justify-content: center;background-color: white;position: relative;}#sk-container-id-1 div.sk-item::before, #sk-container-id-1 div.sk-parallel-item::before {content: \"\";position: absolute;border-left: 1px solid gray;box-sizing: border-box;top: 0;bottom: 0;left: 50%;z-index: -1;}#sk-container-id-1 div.sk-parallel-item {display: flex;flex-direction: column;z-index: 1;position: relative;background-color: white;}#sk-container-id-1 div.sk-parallel-item:first-child::after {align-self: flex-end;width: 50%;}#sk-container-id-1 div.sk-parallel-item:last-child::after {align-self: flex-start;width: 50%;}#sk-container-id-1 div.sk-parallel-item:only-child::after {width: 0;}#sk-container-id-1 div.sk-dashed-wrapped {border: 1px dashed gray;margin: 0 0.4em 0.5em 0.4em;box-sizing: border-box;padding-bottom: 0.4em;background-color: white;}#sk-container-id-1 div.sk-label label {font-family: monospace;font-weight: bold;display: inline-block;line-height: 1.2em;}#sk-container-id-1 div.sk-label-container {text-align: center;}#sk-container-id-1 div.sk-container {/* jupyter's `normalize.less` sets `[hidden] { display: none; }` but bootstrap.min.css set `[hidden] { display: none !important; }` so we also need the `!important` here to be able to override the default hidden behavior on the sphinx rendered scikit-learn.org. See: https://github.com/scikit-learn/scikit-learn/issues/21755 */display: inline-block !important;position: relative;}#sk-container-id-1 div.sk-text-repr-fallback {display: none;}</style><div id=\"sk-container-id-1\" class=\"sk-top-container\"><div class=\"sk-text-repr-fallback\"><pre>SimpleImputer()</pre><b>In a Jupyter environment, please rerun this cell to show the HTML representation or trust the notebook. <br />On GitHub, the HTML representation is unable to render, please try loading this page with nbviewer.org.</b></div><div class=\"sk-container\" hidden><div class=\"sk-item\"><div class=\"sk-estimator sk-toggleable\"><input class=\"sk-toggleable__control sk-hidden--visually\" id=\"sk-estimator-id-1\" type=\"checkbox\" checked><label for=\"sk-estimator-id-1\" class=\"sk-toggleable__label sk-toggleable__label-arrow\">SimpleImputer</label><div class=\"sk-toggleable__content\"><pre>SimpleImputer()</pre></div></div></div></div></div>"
      ],
      "text/plain": [
       "SimpleImputer()"
      ]
     },
     "execution_count": 20,
     "metadata": {},
     "output_type": "execute_result"
    }
   ],
   "source": [
    "Imputer.fit(x[:,1:3])"
   ]
  },
  {
   "cell_type": "code",
   "execution_count": 21,
   "id": "9d95a478",
   "metadata": {},
   "outputs": [],
   "source": [
    "x[:,1:3]=Imputer.transform(x[:,1:3])"
   ]
  },
  {
   "cell_type": "code",
   "execution_count": 22,
   "id": "2cc117e6",
   "metadata": {},
   "outputs": [
    {
     "name": "stdout",
     "output_type": "stream",
     "text": [
      "[['France' 44.0 72000.0]\n",
      " ['Spain' 27.0 48000.0]\n",
      " ['Germany' 30.0 54000.0]\n",
      " ['Spain' 38.0 61000.0]\n",
      " ['Germany' 40.0 63375.0]\n",
      " ['France' 39.25 58000.0]\n",
      " ['Spain' 39.25 52000.0]\n",
      " ['France' 48.0 79000.0]\n",
      " ['Germany' 50.0 83000.0]\n",
      " ['France' 37.0 63375.0]]\n"
     ]
    }
   ],
   "source": [
    "print(x)"
   ]
  },
  {
   "cell_type": "markdown",
   "id": "66e26343",
   "metadata": {},
   "source": [
    "# data preprocessing-labelencoder"
   ]
  },
  {
   "cell_type": "markdown",
   "id": "cdda40b4",
   "metadata": {},
   "source": [
    "importing libraries"
   ]
  },
  {
   "cell_type": "code",
   "execution_count": 23,
   "id": "aab65575",
   "metadata": {},
   "outputs": [],
   "source": [
    "import pandas as pd"
   ]
  },
  {
   "cell_type": "code",
   "execution_count": 24,
   "id": "a3877508",
   "metadata": {},
   "outputs": [],
   "source": [
    "from sklearn.preprocessing import LabelEncoder"
   ]
  },
  {
   "cell_type": "code",
   "execution_count": 25,
   "id": "cf6c6b56",
   "metadata": {},
   "outputs": [],
   "source": [
    "Salary_class=pd.DataFrame({'Salary':[85000,75000,35000,25000,15000],\n",
    "                           'Class' :['High','Medium','Medium','Low','Low']})"
   ]
  },
  {
   "cell_type": "code",
   "execution_count": 26,
   "id": "989e2c9e",
   "metadata": {},
   "outputs": [
    {
     "data": {
      "text/html": [
       "<div>\n",
       "<style scoped>\n",
       "    .dataframe tbody tr th:only-of-type {\n",
       "        vertical-align: middle;\n",
       "    }\n",
       "\n",
       "    .dataframe tbody tr th {\n",
       "        vertical-align: top;\n",
       "    }\n",
       "\n",
       "    .dataframe thead th {\n",
       "        text-align: right;\n",
       "    }\n",
       "</style>\n",
       "<table border=\"1\" class=\"dataframe\">\n",
       "  <thead>\n",
       "    <tr style=\"text-align: right;\">\n",
       "      <th></th>\n",
       "      <th>Salary</th>\n",
       "      <th>Class</th>\n",
       "    </tr>\n",
       "  </thead>\n",
       "  <tbody>\n",
       "    <tr>\n",
       "      <th>0</th>\n",
       "      <td>85000</td>\n",
       "      <td>High</td>\n",
       "    </tr>\n",
       "    <tr>\n",
       "      <th>1</th>\n",
       "      <td>75000</td>\n",
       "      <td>Medium</td>\n",
       "    </tr>\n",
       "    <tr>\n",
       "      <th>2</th>\n",
       "      <td>35000</td>\n",
       "      <td>Medium</td>\n",
       "    </tr>\n",
       "    <tr>\n",
       "      <th>3</th>\n",
       "      <td>25000</td>\n",
       "      <td>Low</td>\n",
       "    </tr>\n",
       "    <tr>\n",
       "      <th>4</th>\n",
       "      <td>15000</td>\n",
       "      <td>Low</td>\n",
       "    </tr>\n",
       "  </tbody>\n",
       "</table>\n",
       "</div>"
      ],
      "text/plain": [
       "   Salary   Class\n",
       "0   85000    High\n",
       "1   75000  Medium\n",
       "2   35000  Medium\n",
       "3   25000     Low\n",
       "4   15000     Low"
      ]
     },
     "execution_count": 26,
     "metadata": {},
     "output_type": "execute_result"
    }
   ],
   "source": [
    "Salary_class"
   ]
  },
  {
   "cell_type": "code",
   "execution_count": 27,
   "id": "18184dc8",
   "metadata": {},
   "outputs": [],
   "source": [
    "lab_encode=LabelEncoder()"
   ]
  },
  {
   "cell_type": "raw",
   "id": "038792d4",
   "metadata": {},
   "source": [
    "label encoding is a simple and effective way to convert categorical variable into numerical form"
   ]
  },
  {
   "cell_type": "code",
   "execution_count": 28,
   "id": "182fd667",
   "metadata": {},
   "outputs": [],
   "source": [
    "Salary_class['Class']=lab_encode.fit_transform(Salary_class['Class'])"
   ]
  },
  {
   "cell_type": "code",
   "execution_count": 29,
   "id": "6622556d",
   "metadata": {},
   "outputs": [
    {
     "data": {
      "text/html": [
       "<div>\n",
       "<style scoped>\n",
       "    .dataframe tbody tr th:only-of-type {\n",
       "        vertical-align: middle;\n",
       "    }\n",
       "\n",
       "    .dataframe tbody tr th {\n",
       "        vertical-align: top;\n",
       "    }\n",
       "\n",
       "    .dataframe thead th {\n",
       "        text-align: right;\n",
       "    }\n",
       "</style>\n",
       "<table border=\"1\" class=\"dataframe\">\n",
       "  <thead>\n",
       "    <tr style=\"text-align: right;\">\n",
       "      <th></th>\n",
       "      <th>Salary</th>\n",
       "      <th>Class</th>\n",
       "    </tr>\n",
       "  </thead>\n",
       "  <tbody>\n",
       "    <tr>\n",
       "      <th>0</th>\n",
       "      <td>85000</td>\n",
       "      <td>0</td>\n",
       "    </tr>\n",
       "    <tr>\n",
       "      <th>1</th>\n",
       "      <td>75000</td>\n",
       "      <td>2</td>\n",
       "    </tr>\n",
       "    <tr>\n",
       "      <th>2</th>\n",
       "      <td>35000</td>\n",
       "      <td>2</td>\n",
       "    </tr>\n",
       "    <tr>\n",
       "      <th>3</th>\n",
       "      <td>25000</td>\n",
       "      <td>1</td>\n",
       "    </tr>\n",
       "    <tr>\n",
       "      <th>4</th>\n",
       "      <td>15000</td>\n",
       "      <td>1</td>\n",
       "    </tr>\n",
       "  </tbody>\n",
       "</table>\n",
       "</div>"
      ],
      "text/plain": [
       "   Salary  Class\n",
       "0   85000      0\n",
       "1   75000      2\n",
       "2   35000      2\n",
       "3   25000      1\n",
       "4   15000      1"
      ]
     },
     "execution_count": 29,
     "metadata": {},
     "output_type": "execute_result"
    }
   ],
   "source": [
    "Salary_class"
   ]
  },
  {
   "cell_type": "markdown",
   "id": "e61ce31b",
   "metadata": {},
   "source": [
    "# DATA PREPROCESSING-ORDINALENCODER"
   ]
  },
  {
   "cell_type": "code",
   "execution_count": 30,
   "id": "06e60f3c",
   "metadata": {},
   "outputs": [],
   "source": [
    "import pandas as pd\n",
    "import numpy as np"
   ]
  },
  {
   "cell_type": "code",
   "execution_count": 31,
   "id": "05c31de9",
   "metadata": {},
   "outputs": [],
   "source": [
    "Salary_class=pd.DataFrame({'Salary':[85000,75000,35000,25000],\n",
    "                           'Class' :['High','Medium','Medium','Low']})"
   ]
  },
  {
   "cell_type": "code",
   "execution_count": 32,
   "id": "4202d7e0",
   "metadata": {
    "scrolled": false
   },
   "outputs": [
    {
     "data": {
      "text/html": [
       "<div>\n",
       "<style scoped>\n",
       "    .dataframe tbody tr th:only-of-type {\n",
       "        vertical-align: middle;\n",
       "    }\n",
       "\n",
       "    .dataframe tbody tr th {\n",
       "        vertical-align: top;\n",
       "    }\n",
       "\n",
       "    .dataframe thead th {\n",
       "        text-align: right;\n",
       "    }\n",
       "</style>\n",
       "<table border=\"1\" class=\"dataframe\">\n",
       "  <thead>\n",
       "    <tr style=\"text-align: right;\">\n",
       "      <th></th>\n",
       "      <th>Salary</th>\n",
       "      <th>Class</th>\n",
       "    </tr>\n",
       "  </thead>\n",
       "  <tbody>\n",
       "    <tr>\n",
       "      <th>0</th>\n",
       "      <td>85000</td>\n",
       "      <td>High</td>\n",
       "    </tr>\n",
       "    <tr>\n",
       "      <th>1</th>\n",
       "      <td>75000</td>\n",
       "      <td>Medium</td>\n",
       "    </tr>\n",
       "    <tr>\n",
       "      <th>2</th>\n",
       "      <td>35000</td>\n",
       "      <td>Medium</td>\n",
       "    </tr>\n",
       "    <tr>\n",
       "      <th>3</th>\n",
       "      <td>25000</td>\n",
       "      <td>Low</td>\n",
       "    </tr>\n",
       "  </tbody>\n",
       "</table>\n",
       "</div>"
      ],
      "text/plain": [
       "   Salary   Class\n",
       "0   85000    High\n",
       "1   75000  Medium\n",
       "2   35000  Medium\n",
       "3   25000     Low"
      ]
     },
     "execution_count": 32,
     "metadata": {},
     "output_type": "execute_result"
    }
   ],
   "source": [
    "Salary_class"
   ]
  },
  {
   "cell_type": "code",
   "execution_count": 33,
   "id": "dcc8f0bc",
   "metadata": {},
   "outputs": [
    {
     "data": {
      "text/plain": [
       "array(['High', 'Medium', 'Low'], dtype=object)"
      ]
     },
     "execution_count": 33,
     "metadata": {},
     "output_type": "execute_result"
    }
   ],
   "source": [
    "Salary_class.Class.unique()"
   ]
  },
  {
   "cell_type": "markdown",
   "id": "f9703d60",
   "metadata": {},
   "source": [
    "# import libraries"
   ]
  },
  {
   "cell_type": "code",
   "execution_count": 34,
   "id": "fb34f33a",
   "metadata": {},
   "outputs": [],
   "source": [
    "from sklearn.preprocessing import OrdinalEncoder"
   ]
  },
  {
   "cell_type": "code",
   "execution_count": 35,
   "id": "1e671ab4",
   "metadata": {},
   "outputs": [],
   "source": [
    "order=['Low','Medium','High']"
   ]
  },
  {
   "cell_type": "code",
   "execution_count": 36,
   "id": "6126f18f",
   "metadata": {},
   "outputs": [
    {
     "data": {
      "text/plain": [
       "['Low', 'Medium', 'High']"
      ]
     },
     "execution_count": 36,
     "metadata": {},
     "output_type": "execute_result"
    }
   ],
   "source": [
    "order"
   ]
  },
  {
   "cell_type": "code",
   "execution_count": 37,
   "id": "3659ca2e",
   "metadata": {
    "scrolled": true
   },
   "outputs": [],
   "source": [
    "ord_enc=OrdinalEncoder(categories=[order])"
   ]
  },
  {
   "cell_type": "code",
   "execution_count": 38,
   "id": "8406113c",
   "metadata": {},
   "outputs": [
    {
     "data": {
      "text/html": [
       "<style>#sk-container-id-2 {color: black;}#sk-container-id-2 pre{padding: 0;}#sk-container-id-2 div.sk-toggleable {background-color: white;}#sk-container-id-2 label.sk-toggleable__label {cursor: pointer;display: block;width: 100%;margin-bottom: 0;padding: 0.3em;box-sizing: border-box;text-align: center;}#sk-container-id-2 label.sk-toggleable__label-arrow:before {content: \"▸\";float: left;margin-right: 0.25em;color: #696969;}#sk-container-id-2 label.sk-toggleable__label-arrow:hover:before {color: black;}#sk-container-id-2 div.sk-estimator:hover label.sk-toggleable__label-arrow:before {color: black;}#sk-container-id-2 div.sk-toggleable__content {max-height: 0;max-width: 0;overflow: hidden;text-align: left;background-color: #f0f8ff;}#sk-container-id-2 div.sk-toggleable__content pre {margin: 0.2em;color: black;border-radius: 0.25em;background-color: #f0f8ff;}#sk-container-id-2 input.sk-toggleable__control:checked~div.sk-toggleable__content {max-height: 200px;max-width: 100%;overflow: auto;}#sk-container-id-2 input.sk-toggleable__control:checked~label.sk-toggleable__label-arrow:before {content: \"▾\";}#sk-container-id-2 div.sk-estimator input.sk-toggleable__control:checked~label.sk-toggleable__label {background-color: #d4ebff;}#sk-container-id-2 div.sk-label input.sk-toggleable__control:checked~label.sk-toggleable__label {background-color: #d4ebff;}#sk-container-id-2 input.sk-hidden--visually {border: 0;clip: rect(1px 1px 1px 1px);clip: rect(1px, 1px, 1px, 1px);height: 1px;margin: -1px;overflow: hidden;padding: 0;position: absolute;width: 1px;}#sk-container-id-2 div.sk-estimator {font-family: monospace;background-color: #f0f8ff;border: 1px dotted black;border-radius: 0.25em;box-sizing: border-box;margin-bottom: 0.5em;}#sk-container-id-2 div.sk-estimator:hover {background-color: #d4ebff;}#sk-container-id-2 div.sk-parallel-item::after {content: \"\";width: 100%;border-bottom: 1px solid gray;flex-grow: 1;}#sk-container-id-2 div.sk-label:hover label.sk-toggleable__label {background-color: #d4ebff;}#sk-container-id-2 div.sk-serial::before {content: \"\";position: absolute;border-left: 1px solid gray;box-sizing: border-box;top: 0;bottom: 0;left: 50%;z-index: 0;}#sk-container-id-2 div.sk-serial {display: flex;flex-direction: column;align-items: center;background-color: white;padding-right: 0.2em;padding-left: 0.2em;position: relative;}#sk-container-id-2 div.sk-item {position: relative;z-index: 1;}#sk-container-id-2 div.sk-parallel {display: flex;align-items: stretch;justify-content: center;background-color: white;position: relative;}#sk-container-id-2 div.sk-item::before, #sk-container-id-2 div.sk-parallel-item::before {content: \"\";position: absolute;border-left: 1px solid gray;box-sizing: border-box;top: 0;bottom: 0;left: 50%;z-index: -1;}#sk-container-id-2 div.sk-parallel-item {display: flex;flex-direction: column;z-index: 1;position: relative;background-color: white;}#sk-container-id-2 div.sk-parallel-item:first-child::after {align-self: flex-end;width: 50%;}#sk-container-id-2 div.sk-parallel-item:last-child::after {align-self: flex-start;width: 50%;}#sk-container-id-2 div.sk-parallel-item:only-child::after {width: 0;}#sk-container-id-2 div.sk-dashed-wrapped {border: 1px dashed gray;margin: 0 0.4em 0.5em 0.4em;box-sizing: border-box;padding-bottom: 0.4em;background-color: white;}#sk-container-id-2 div.sk-label label {font-family: monospace;font-weight: bold;display: inline-block;line-height: 1.2em;}#sk-container-id-2 div.sk-label-container {text-align: center;}#sk-container-id-2 div.sk-container {/* jupyter's `normalize.less` sets `[hidden] { display: none; }` but bootstrap.min.css set `[hidden] { display: none !important; }` so we also need the `!important` here to be able to override the default hidden behavior on the sphinx rendered scikit-learn.org. See: https://github.com/scikit-learn/scikit-learn/issues/21755 */display: inline-block !important;position: relative;}#sk-container-id-2 div.sk-text-repr-fallback {display: none;}</style><div id=\"sk-container-id-2\" class=\"sk-top-container\"><div class=\"sk-text-repr-fallback\"><pre>OrdinalEncoder(categories=[[&#x27;Low&#x27;, &#x27;Medium&#x27;, &#x27;High&#x27;]])</pre><b>In a Jupyter environment, please rerun this cell to show the HTML representation or trust the notebook. <br />On GitHub, the HTML representation is unable to render, please try loading this page with nbviewer.org.</b></div><div class=\"sk-container\" hidden><div class=\"sk-item\"><div class=\"sk-estimator sk-toggleable\"><input class=\"sk-toggleable__control sk-hidden--visually\" id=\"sk-estimator-id-2\" type=\"checkbox\" checked><label for=\"sk-estimator-id-2\" class=\"sk-toggleable__label sk-toggleable__label-arrow\">OrdinalEncoder</label><div class=\"sk-toggleable__content\"><pre>OrdinalEncoder(categories=[[&#x27;Low&#x27;, &#x27;Medium&#x27;, &#x27;High&#x27;]])</pre></div></div></div></div></div>"
      ],
      "text/plain": [
       "OrdinalEncoder(categories=[['Low', 'Medium', 'High']])"
      ]
     },
     "execution_count": 38,
     "metadata": {},
     "output_type": "execute_result"
    }
   ],
   "source": [
    "ord_enc.fit(Salary_class[[\"Class\"]])"
   ]
  },
  {
   "cell_type": "code",
   "execution_count": 39,
   "id": "775f5330",
   "metadata": {
    "scrolled": true
   },
   "outputs": [],
   "source": [
    "Salary_class[\"Class\"]=ord_enc.fit_transform(Salary_class[[\"Class\"]])"
   ]
  },
  {
   "cell_type": "code",
   "execution_count": 40,
   "id": "ecb41d4f",
   "metadata": {},
   "outputs": [
    {
     "data": {
      "text/html": [
       "<div>\n",
       "<style scoped>\n",
       "    .dataframe tbody tr th:only-of-type {\n",
       "        vertical-align: middle;\n",
       "    }\n",
       "\n",
       "    .dataframe tbody tr th {\n",
       "        vertical-align: top;\n",
       "    }\n",
       "\n",
       "    .dataframe thead th {\n",
       "        text-align: right;\n",
       "    }\n",
       "</style>\n",
       "<table border=\"1\" class=\"dataframe\">\n",
       "  <thead>\n",
       "    <tr style=\"text-align: right;\">\n",
       "      <th></th>\n",
       "      <th>Salary</th>\n",
       "      <th>Class</th>\n",
       "    </tr>\n",
       "  </thead>\n",
       "  <tbody>\n",
       "    <tr>\n",
       "      <th>0</th>\n",
       "      <td>85000</td>\n",
       "      <td>2.0</td>\n",
       "    </tr>\n",
       "    <tr>\n",
       "      <th>1</th>\n",
       "      <td>75000</td>\n",
       "      <td>1.0</td>\n",
       "    </tr>\n",
       "    <tr>\n",
       "      <th>2</th>\n",
       "      <td>35000</td>\n",
       "      <td>1.0</td>\n",
       "    </tr>\n",
       "    <tr>\n",
       "      <th>3</th>\n",
       "      <td>25000</td>\n",
       "      <td>0.0</td>\n",
       "    </tr>\n",
       "  </tbody>\n",
       "</table>\n",
       "</div>"
      ],
      "text/plain": [
       "   Salary  Class\n",
       "0   85000    2.0\n",
       "1   75000    1.0\n",
       "2   35000    1.0\n",
       "3   25000    0.0"
      ]
     },
     "execution_count": 40,
     "metadata": {},
     "output_type": "execute_result"
    }
   ],
   "source": [
    "Salary_class"
   ]
  },
  {
   "cell_type": "markdown",
   "id": "0490c11c",
   "metadata": {},
   "source": [
    "# data preprocessing-features scaling"
   ]
  },
  {
   "cell_type": "code",
   "execution_count": 41,
   "id": "aeebdf3f",
   "metadata": {},
   "outputs": [],
   "source": [
    "import pandas as pd\n",
    "import numpy as np"
   ]
  },
  {
   "cell_type": "code",
   "execution_count": 42,
   "id": "b63d2760",
   "metadata": {},
   "outputs": [],
   "source": [
    "stand_scaler=pd.DataFrame({'x1':np.random.normal(0,2,100),\n",
    "                          'x2':np.random.normal(3,5,100),\n",
    "                          'x3':np.random.normal(-2,2,100)})"
   ]
  },
  {
   "cell_type": "code",
   "execution_count": 43,
   "id": "19296375",
   "metadata": {},
   "outputs": [
    {
     "data": {
      "text/html": [
       "<div>\n",
       "<style scoped>\n",
       "    .dataframe tbody tr th:only-of-type {\n",
       "        vertical-align: middle;\n",
       "    }\n",
       "\n",
       "    .dataframe tbody tr th {\n",
       "        vertical-align: top;\n",
       "    }\n",
       "\n",
       "    .dataframe thead th {\n",
       "        text-align: right;\n",
       "    }\n",
       "</style>\n",
       "<table border=\"1\" class=\"dataframe\">\n",
       "  <thead>\n",
       "    <tr style=\"text-align: right;\">\n",
       "      <th></th>\n",
       "      <th>x1</th>\n",
       "      <th>x2</th>\n",
       "      <th>x3</th>\n",
       "    </tr>\n",
       "  </thead>\n",
       "  <tbody>\n",
       "    <tr>\n",
       "      <th>0</th>\n",
       "      <td>-1.249739</td>\n",
       "      <td>6.308022</td>\n",
       "      <td>0.410605</td>\n",
       "    </tr>\n",
       "    <tr>\n",
       "      <th>1</th>\n",
       "      <td>-3.612095</td>\n",
       "      <td>-3.137472</td>\n",
       "      <td>-0.436314</td>\n",
       "    </tr>\n",
       "    <tr>\n",
       "      <th>2</th>\n",
       "      <td>1.205592</td>\n",
       "      <td>3.892949</td>\n",
       "      <td>-6.640346</td>\n",
       "    </tr>\n",
       "    <tr>\n",
       "      <th>3</th>\n",
       "      <td>-1.705264</td>\n",
       "      <td>1.770094</td>\n",
       "      <td>-5.964322</td>\n",
       "    </tr>\n",
       "    <tr>\n",
       "      <th>4</th>\n",
       "      <td>-2.238921</td>\n",
       "      <td>7.369220</td>\n",
       "      <td>-0.578845</td>\n",
       "    </tr>\n",
       "    <tr>\n",
       "      <th>...</th>\n",
       "      <td>...</td>\n",
       "      <td>...</td>\n",
       "      <td>...</td>\n",
       "    </tr>\n",
       "    <tr>\n",
       "      <th>95</th>\n",
       "      <td>1.951606</td>\n",
       "      <td>0.063309</td>\n",
       "      <td>-1.946145</td>\n",
       "    </tr>\n",
       "    <tr>\n",
       "      <th>96</th>\n",
       "      <td>-1.181426</td>\n",
       "      <td>1.064231</td>\n",
       "      <td>-1.589014</td>\n",
       "    </tr>\n",
       "    <tr>\n",
       "      <th>97</th>\n",
       "      <td>0.810160</td>\n",
       "      <td>5.518658</td>\n",
       "      <td>-1.770441</td>\n",
       "    </tr>\n",
       "    <tr>\n",
       "      <th>98</th>\n",
       "      <td>-2.392282</td>\n",
       "      <td>7.786628</td>\n",
       "      <td>-6.283960</td>\n",
       "    </tr>\n",
       "    <tr>\n",
       "      <th>99</th>\n",
       "      <td>1.696387</td>\n",
       "      <td>2.437790</td>\n",
       "      <td>-3.723325</td>\n",
       "    </tr>\n",
       "  </tbody>\n",
       "</table>\n",
       "<p>100 rows × 3 columns</p>\n",
       "</div>"
      ],
      "text/plain": [
       "          x1        x2        x3\n",
       "0  -1.249739  6.308022  0.410605\n",
       "1  -3.612095 -3.137472 -0.436314\n",
       "2   1.205592  3.892949 -6.640346\n",
       "3  -1.705264  1.770094 -5.964322\n",
       "4  -2.238921  7.369220 -0.578845\n",
       "..       ...       ...       ...\n",
       "95  1.951606  0.063309 -1.946145\n",
       "96 -1.181426  1.064231 -1.589014\n",
       "97  0.810160  5.518658 -1.770441\n",
       "98 -2.392282  7.786628 -6.283960\n",
       "99  1.696387  2.437790 -3.723325\n",
       "\n",
       "[100 rows x 3 columns]"
      ]
     },
     "execution_count": 43,
     "metadata": {},
     "output_type": "execute_result"
    }
   ],
   "source": [
    "stand_scaler"
   ]
  },
  {
   "cell_type": "code",
   "execution_count": 46,
   "id": "e007a388",
   "metadata": {
    "scrolled": false
   },
   "outputs": [
    {
     "data": {
      "text/plain": [
       "<Axes: ylabel='Density'>"
      ]
     },
     "execution_count": 46,
     "metadata": {},
     "output_type": "execute_result"
    },
    {
     "data": {
      "image/png": "[encoded data removed]",
      "text/plain": [
       "<Figure size 640x480 with 1 Axes>"
      ]
     },
     "metadata": {},
     "output_type": "display_data"
    }
   ],
   "source": [
    "stand_scaler.plot.kde()"
   ]
  },
  {
   "cell_type": "raw",
   "id": "66dfa1ad",
   "metadata": {},
   "source": [
    "kde -> kernel density estimate"
   ]
  },
  {
   "cell_type": "markdown",
   "id": "1f1d1845",
   "metadata": {},
   "source": [
    "# standard scaler "
   ]
  },
  {
   "cell_type": "raw",
   "id": "44b906c8",
   "metadata": {},
   "source": [
    " standard scaler deponds on mean,standard deviation "
   ]
  },
  {
   "cell_type": "markdown",
   "id": "742cd9a3",
   "metadata": {},
   "source": [
    "# import standardscaler"
   ]
  },
  {
   "cell_type": "code",
   "execution_count": 48,
   "id": "e1509556",
   "metadata": {},
   "outputs": [],
   "source": [
    "from sklearn.preprocessing import StandardScaler"
   ]
  },
  {
   "cell_type": "code",
   "execution_count": 49,
   "id": "8a72c8b9",
   "metadata": {},
   "outputs": [],
   "source": [
    "stand_sc=StandardScaler()"
   ]
  },
  {
   "cell_type": "markdown",
   "id": "ad185b1c",
   "metadata": {},
   "source": [
    "# fiiting and transforming "
   ]
  },
  {
   "cell_type": "code",
   "execution_count": 55,
   "id": "f7b8b67c",
   "metadata": {},
   "outputs": [],
   "source": [
    "stand_scaler=stand_sc.fit_transform(stand_scaler)"
   ]
  },
  {
   "cell_type": "code",
   "execution_count": 56,
   "id": "8de0f8b0",
   "metadata": {},
   "outputs": [
    {
     "data": {
      "text/plain": [
       "array([[-6.32287288e-01,  5.92268483e-01,  1.26415293e+00],\n",
       "       [-1.78777623e+00, -1.48993491e+00,  8.65556331e-01],\n",
       "       [ 5.68678245e-01,  5.98797359e-02, -2.05432831e+00],\n",
       "       [-8.55096184e-01, -4.08091033e-01, -1.73616221e+00],\n",
       "       [-1.11612172e+00,  8.26203216e-01,  7.98474843e-01],\n",
       "       [ 5.48419783e-01,  1.19909103e+00,  1.28794859e+00],\n",
       "       [-7.73445396e-01, -4.92420893e-01,  1.37634525e+00],\n",
       "       [-6.28989752e-01,  9.21360969e-01,  2.69281298e-01],\n",
       "       [ 4.04501104e-01, -1.06917004e+00,  6.34571432e-01],\n",
       "       [ 9.79108388e-01, -1.14856753e+00, -4.86147576e-01],\n",
       "       [-2.23795872e-01,  1.39733325e-01, -1.65270530e+00],\n",
       "       [-1.10941621e+00, -2.84106635e-02, -5.02469533e-01],\n",
       "       [-3.26309682e-01, -6.83000924e-01, -2.45733787e-02],\n",
       "       [ 1.38124568e+00, -1.08552121e+00, -2.87727230e-01],\n",
       "       [ 5.27354860e-01,  1.66221125e+00, -5.82143752e-01],\n",
       "       [ 1.20151699e+00,  4.46456770e-01, -9.40034156e-01],\n",
       "       [-1.38182026e+00, -1.53583901e+00, -5.01716576e-01],\n",
       "       [ 3.85261099e-01, -3.50555376e-01, -1.77810171e+00],\n",
       "       [ 1.43883588e+00,  2.31738097e+00, -1.11225760e+00],\n",
       "       [-9.06076323e-01,  6.87849124e-01, -2.66711544e-01],\n",
       "       [-1.13505048e+00,  4.43229822e-01, -4.41952327e-01],\n",
       "       [ 5.33485371e-01, -7.80413097e-01,  4.11497759e-01],\n",
       "       [-8.44746808e-01, -3.94005019e-01, -2.76711896e-01],\n",
       "       [-1.55381507e+00,  1.81098468e+00, -3.56013313e-01],\n",
       "       [-1.51933687e+00, -1.93146657e+00, -1.24348890e-01],\n",
       "       [-1.45238444e-01, -1.80208565e+00, -4.08000858e-01],\n",
       "       [ 3.54506650e-01,  4.35164848e-01, -4.16262567e-01],\n",
       "       [-5.96629228e-01, -2.68234129e-01, -1.17572747e-01],\n",
       "       [-1.26472045e+00, -7.67445892e-01, -9.37113505e-01],\n",
       "       [-9.93155723e-01, -1.10069404e-01,  1.55269089e+00],\n",
       "       [-3.50096949e-02,  1.00011947e+00, -1.32358238e+00],\n",
       "       [ 1.25490489e+00,  1.29985225e+00, -1.05368537e+00],\n",
       "       [ 2.10412705e+00, -5.53628100e-01,  1.25296846e+00],\n",
       "       [ 9.81568396e-01, -1.33829743e+00,  9.99041254e-01],\n",
       "       [-2.03269704e-02, -3.78755981e-01, -1.82278763e+00],\n",
       "       [-2.12432307e-01,  1.45731499e-01,  1.29493026e+00],\n",
       "       [ 2.28171910e+00,  7.90309317e-01,  6.76507369e-01],\n",
       "       [ 3.78536289e-01,  2.48589230e+00,  1.20734196e+00],\n",
       "       [ 1.02243423e+00, -9.82794063e-01,  4.68036528e-01],\n",
       "       [-9.44766921e-02,  2.22515467e+00,  1.78656361e+00],\n",
       "       [-1.49763027e+00,  7.67989584e-01, -5.45390058e-01],\n",
       "       [-7.58742191e-01,  2.90872379e-01,  4.49345837e-01],\n",
       "       [ 3.33213922e-01,  8.68162171e-01, -4.26652496e-01],\n",
       "       [-2.40060622e-01,  1.13914111e-03,  1.13036185e-01],\n",
       "       [ 1.37147781e+00, -2.28215103e-01,  1.92653104e+00],\n",
       "       [-1.41305447e+00,  8.85740815e-01, -1.63337529e-01],\n",
       "       [ 1.68121908e-02,  5.09954657e-01,  4.66194019e-01],\n",
       "       [-6.29269891e-02, -2.13173978e-01,  4.47228677e-01],\n",
       "       [-4.37079763e-01, -6.91134636e-01,  9.91129490e-01],\n",
       "       [ 6.24203738e-01, -5.20089052e-01,  9.78087593e-01],\n",
       "       [ 4.83619208e-01, -1.51781177e-01,  1.87416942e+00],\n",
       "       [ 8.27301493e-01, -1.98823219e+00, -1.70441020e-01],\n",
       "       [-2.09082205e+00, -1.03853528e+00,  4.02548566e-02],\n",
       "       [ 7.48953907e-01,  7.32694439e-01, -1.03858834e+00],\n",
       "       [-2.38411879e-01, -1.38175853e-01, -1.60817211e+00],\n",
       "       [-1.91059356e-03,  4.50983130e-01, -7.31763821e-01],\n",
       "       [ 1.12912655e-01,  2.77231510e-01, -3.63417866e-01],\n",
       "       [ 4.52129241e-01, -3.61754145e-01, -4.13341263e-01],\n",
       "       [ 1.06022160e+00,  1.10677801e+00, -2.03459440e-01],\n",
       "       [-1.83165162e+00, -1.05525285e+00, -2.03525310e+00],\n",
       "       [ 7.19602778e-01,  9.59947824e-02, -3.43212005e-01],\n",
       "       [-8.13267866e-02, -5.94520875e-01,  2.75193955e-01],\n",
       "       [-1.42194879e+00,  8.66366363e-01,  5.75564924e-01],\n",
       "       [ 8.97383237e-01, -1.18373430e+00,  2.08257365e-01],\n",
       "       [ 9.03350255e-01, -2.77524881e-01,  1.13005978e+00],\n",
       "       [-3.39464953e-01, -1.73610681e+00, -2.14710387e+00],\n",
       "       [ 1.53193982e+00, -9.71632309e-01, -2.25605749e+00],\n",
       "       [ 5.80228046e-03, -5.79805979e-01,  1.05145030e+00],\n",
       "       [-1.15477904e+00, -7.12268641e-01,  1.01307623e+00],\n",
       "       [-4.61175508e-01,  2.48946628e-01, -2.32316788e-01],\n",
       "       [ 3.92634203e-01,  3.20577499e-01,  8.12071818e-01],\n",
       "       [ 7.39392499e-02, -5.57218320e-01, -2.97633794e-01],\n",
       "       [-5.27701880e-01,  2.60077532e-01, -5.99643790e-01],\n",
       "       [-4.89007542e-01, -2.53498915e-01,  9.72179438e-01],\n",
       "       [-4.48348095e-01,  2.40114545e-01,  1.42478265e+00],\n",
       "       [ 3.70562352e-01, -3.85314481e-01, -3.83950051e-01],\n",
       "       [ 1.43770702e+00,  1.09521340e+00, -1.08445214e+00],\n",
       "       [ 6.67887069e-01,  1.76086537e+00, -7.61161858e-01],\n",
       "       [ 5.27529896e-01, -3.47774500e-01,  8.00289243e-02],\n",
       "       [ 1.17358431e+00,  9.56970117e-01, -3.27103024e-01],\n",
       "       [ 7.53022280e-01,  2.33787913e-01,  1.70464290e+00],\n",
       "       [-2.21840151e+00,  1.39169373e+00,  1.07675031e+00],\n",
       "       [ 1.22363192e+00, -1.38230610e+00, -2.02104278e-01],\n",
       "       [ 1.53404446e+00,  1.25846541e+00,  2.70632646e-01],\n",
       "       [ 1.51695184e-01, -1.28242872e+00,  1.13830072e+00],\n",
       "       [-2.51892450e-01, -1.24616530e+00, -9.68514398e-01],\n",
       "       [-7.52212498e-01,  6.48467748e-01,  1.94980706e+00],\n",
       "       [ 2.50362823e+00,  1.01351572e+00,  1.14120329e-01],\n",
       "       [ 1.15093776e-01,  1.38148321e+00,  3.99059742e-01],\n",
       "       [-8.64327284e-01, -1.70978072e+00, -5.77379676e-01],\n",
       "       [-1.19021809e+00,  1.07653780e+00,  1.38931492e+00],\n",
       "       [ 1.44482114e+00, -1.48271861e-01,  5.64458317e-01],\n",
       "       [-1.33368458e+00,  6.95294167e-01, -6.84415538e-01],\n",
       "       [ 1.43265623e-01, -2.09273289e+00, -9.71130611e-02],\n",
       "       [-1.01288649e+00,  7.93806440e-01,  1.35832323e-01],\n",
       "       [ 9.33572680e-01, -7.84341650e-01,  1.54964663e-01],\n",
       "       [-5.98873673e-01, -5.63694405e-01,  3.23046015e-01],\n",
       "       [ 3.75262122e-01,  4.18257801e-01,  2.37658667e-01],\n",
       "       [-1.19113475e+00,  9.18218493e-01, -1.88659788e+00],\n",
       "       [ 8.08738359e-01, -2.60901398e-01, -6.81452832e-01]])"
      ]
     },
     "execution_count": 56,
     "metadata": {},
     "output_type": "execute_result"
    }
   ],
   "source": [
    "stand_scaler"
   ]
  },
  {
   "cell_type": "code",
   "execution_count": 57,
   "id": "530708df",
   "metadata": {},
   "outputs": [],
   "source": [
    "stand_scaler=pd.DataFrame(stand_scaler,columns=['x1','x2','x3'])"
   ]
  },
  {
   "cell_type": "code",
   "execution_count": 58,
   "id": "2caaef96",
   "metadata": {},
   "outputs": [
    {
     "data": {
      "text/html": [
       "<div>\n",
       "<style scoped>\n",
       "    .dataframe tbody tr th:only-of-type {\n",
       "        vertical-align: middle;\n",
       "    }\n",
       "\n",
       "    .dataframe tbody tr th {\n",
       "        vertical-align: top;\n",
       "    }\n",
       "\n",
       "    .dataframe thead th {\n",
       "        text-align: right;\n",
       "    }\n",
       "</style>\n",
       "<table border=\"1\" class=\"dataframe\">\n",
       "  <thead>\n",
       "    <tr style=\"text-align: right;\">\n",
       "      <th></th>\n",
       "      <th>x1</th>\n",
       "      <th>x2</th>\n",
       "      <th>x3</th>\n",
       "    </tr>\n",
       "  </thead>\n",
       "  <tbody>\n",
       "    <tr>\n",
       "      <th>0</th>\n",
       "      <td>-0.632287</td>\n",
       "      <td>0.592268</td>\n",
       "      <td>1.264153</td>\n",
       "    </tr>\n",
       "    <tr>\n",
       "      <th>1</th>\n",
       "      <td>-1.787776</td>\n",
       "      <td>-1.489935</td>\n",
       "      <td>0.865556</td>\n",
       "    </tr>\n",
       "    <tr>\n",
       "      <th>2</th>\n",
       "      <td>0.568678</td>\n",
       "      <td>0.059880</td>\n",
       "      <td>-2.054328</td>\n",
       "    </tr>\n",
       "    <tr>\n",
       "      <th>3</th>\n",
       "      <td>-0.855096</td>\n",
       "      <td>-0.408091</td>\n",
       "      <td>-1.736162</td>\n",
       "    </tr>\n",
       "    <tr>\n",
       "      <th>4</th>\n",
       "      <td>-1.116122</td>\n",
       "      <td>0.826203</td>\n",
       "      <td>0.798475</td>\n",
       "    </tr>\n",
       "    <tr>\n",
       "      <th>...</th>\n",
       "      <td>...</td>\n",
       "      <td>...</td>\n",
       "      <td>...</td>\n",
       "    </tr>\n",
       "    <tr>\n",
       "      <th>95</th>\n",
       "      <td>0.933573</td>\n",
       "      <td>-0.784342</td>\n",
       "      <td>0.154965</td>\n",
       "    </tr>\n",
       "    <tr>\n",
       "      <th>96</th>\n",
       "      <td>-0.598874</td>\n",
       "      <td>-0.563694</td>\n",
       "      <td>0.323046</td>\n",
       "    </tr>\n",
       "    <tr>\n",
       "      <th>97</th>\n",
       "      <td>0.375262</td>\n",
       "      <td>0.418258</td>\n",
       "      <td>0.237659</td>\n",
       "    </tr>\n",
       "    <tr>\n",
       "      <th>98</th>\n",
       "      <td>-1.191135</td>\n",
       "      <td>0.918218</td>\n",
       "      <td>-1.886598</td>\n",
       "    </tr>\n",
       "    <tr>\n",
       "      <th>99</th>\n",
       "      <td>0.808738</td>\n",
       "      <td>-0.260901</td>\n",
       "      <td>-0.681453</td>\n",
       "    </tr>\n",
       "  </tbody>\n",
       "</table>\n",
       "<p>100 rows × 3 columns</p>\n",
       "</div>"
      ],
      "text/plain": [
       "          x1        x2        x3\n",
       "0  -0.632287  0.592268  1.264153\n",
       "1  -1.787776 -1.489935  0.865556\n",
       "2   0.568678  0.059880 -2.054328\n",
       "3  -0.855096 -0.408091 -1.736162\n",
       "4  -1.116122  0.826203  0.798475\n",
       "..       ...       ...       ...\n",
       "95  0.933573 -0.784342  0.154965\n",
       "96 -0.598874 -0.563694  0.323046\n",
       "97  0.375262  0.418258  0.237659\n",
       "98 -1.191135  0.918218 -1.886598\n",
       "99  0.808738 -0.260901 -0.681453\n",
       "\n",
       "[100 rows x 3 columns]"
      ]
     },
     "execution_count": 58,
     "metadata": {},
     "output_type": "execute_result"
    }
   ],
   "source": [
    "stand_scaler"
   ]
  },
  {
   "cell_type": "code",
   "execution_count": 59,
   "id": "83be19e0",
   "metadata": {},
   "outputs": [
    {
     "data": {
      "text/plain": [
       "<Axes: ylabel='Density'>"
      ]
     },
     "execution_count": 59,
     "metadata": {},
     "output_type": "execute_result"
    },
    {
     "data": {
      "image/png": "[encoded data removed]",
      "text/plain": [
       "<Figure size 640x480 with 1 Axes>"
      ]
     },
     "metadata": {},
     "output_type": "display_data"
    }
   ],
   "source": [
    "stand_scaler.plot.kde()"
   ]
  },
  {
   "cell_type": "markdown",
   "id": "e36dd4a6",
   "metadata": {},
   "source": [
    "# data preproceesingscaling outliers "
   ]
  },
  {
   "cell_type": "raw",
   "id": "4c0d81f2",
   "metadata": {},
   "source": [
    "import library numpy  and pandas"
   ]
  },
  {
   "cell_type": "code",
   "execution_count": 60,
   "id": "d8a7943f",
   "metadata": {},
   "outputs": [],
   "source": [
    "import numpy as np\n",
    "import pandas as pd"
   ]
  },
  {
   "cell_type": "code",
   "execution_count": 61,
   "id": "5a61c24d",
   "metadata": {},
   "outputs": [],
   "source": [
    "outliers_df=pd.DataFrame({\n",
    "    'x1':np.concatenate([np.random.normal(20,1,1000),np.random.normal(1,2,25)]),\n",
    "     'x2':np.concatenate([np.random.normal(30,1,1000),np.random.normal(50,2,25)])\n",
    "})"
   ]
  },
  {
   "cell_type": "code",
   "execution_count": 62,
   "id": "d7648e0d",
   "metadata": {},
   "outputs": [
    {
     "data": {
      "text/html": [
       "<div>\n",
       "<style scoped>\n",
       "    .dataframe tbody tr th:only-of-type {\n",
       "        vertical-align: middle;\n",
       "    }\n",
       "\n",
       "    .dataframe tbody tr th {\n",
       "        vertical-align: top;\n",
       "    }\n",
       "\n",
       "    .dataframe thead th {\n",
       "        text-align: right;\n",
       "    }\n",
       "</style>\n",
       "<table border=\"1\" class=\"dataframe\">\n",
       "  <thead>\n",
       "    <tr style=\"text-align: right;\">\n",
       "      <th></th>\n",
       "      <th>x1</th>\n",
       "      <th>x2</th>\n",
       "    </tr>\n",
       "  </thead>\n",
       "  <tbody>\n",
       "    <tr>\n",
       "      <th>0</th>\n",
       "      <td>20.169056</td>\n",
       "      <td>30.392878</td>\n",
       "    </tr>\n",
       "    <tr>\n",
       "      <th>1</th>\n",
       "      <td>20.063922</td>\n",
       "      <td>29.070952</td>\n",
       "    </tr>\n",
       "    <tr>\n",
       "      <th>2</th>\n",
       "      <td>20.081663</td>\n",
       "      <td>28.449622</td>\n",
       "    </tr>\n",
       "    <tr>\n",
       "      <th>3</th>\n",
       "      <td>21.431675</td>\n",
       "      <td>29.964439</td>\n",
       "    </tr>\n",
       "    <tr>\n",
       "      <th>4</th>\n",
       "      <td>19.328544</td>\n",
       "      <td>30.466274</td>\n",
       "    </tr>\n",
       "    <tr>\n",
       "      <th>...</th>\n",
       "      <td>...</td>\n",
       "      <td>...</td>\n",
       "    </tr>\n",
       "    <tr>\n",
       "      <th>1020</th>\n",
       "      <td>-2.481178</td>\n",
       "      <td>52.304902</td>\n",
       "    </tr>\n",
       "    <tr>\n",
       "      <th>1021</th>\n",
       "      <td>1.217539</td>\n",
       "      <td>52.793545</td>\n",
       "    </tr>\n",
       "    <tr>\n",
       "      <th>1022</th>\n",
       "      <td>1.057932</td>\n",
       "      <td>52.054547</td>\n",
       "    </tr>\n",
       "    <tr>\n",
       "      <th>1023</th>\n",
       "      <td>1.139378</td>\n",
       "      <td>46.909756</td>\n",
       "    </tr>\n",
       "    <tr>\n",
       "      <th>1024</th>\n",
       "      <td>1.371902</td>\n",
       "      <td>50.408584</td>\n",
       "    </tr>\n",
       "  </tbody>\n",
       "</table>\n",
       "<p>1025 rows × 2 columns</p>\n",
       "</div>"
      ],
      "text/plain": [
       "             x1         x2\n",
       "0     20.169056  30.392878\n",
       "1     20.063922  29.070952\n",
       "2     20.081663  28.449622\n",
       "3     21.431675  29.964439\n",
       "4     19.328544  30.466274\n",
       "...         ...        ...\n",
       "1020  -2.481178  52.304902\n",
       "1021   1.217539  52.793545\n",
       "1022   1.057932  52.054547\n",
       "1023   1.139378  46.909756\n",
       "1024   1.371902  50.408584\n",
       "\n",
       "[1025 rows x 2 columns]"
      ]
     },
     "execution_count": 62,
     "metadata": {},
     "output_type": "execute_result"
    }
   ],
   "source": [
    "outliers_df"
   ]
  },
  {
   "cell_type": "code",
   "execution_count": 63,
   "id": "a2fabb3f",
   "metadata": {},
   "outputs": [
    {
     "data": {
      "text/plain": [
       "<Axes: ylabel='Density'>"
      ]
     },
     "execution_count": 63,
     "metadata": {},
     "output_type": "execute_result"
    },
    {
     "data": {
      "image/png": "[encoded data removed]",
      "text/plain": [
       "<Figure size 640x480 with 1 Axes>"
      ]
     },
     "metadata": {},
     "output_type": "display_data"
    }
   ],
   "source": [
    "outliers_df.plot.kde()"
   ]
  },
  {
   "cell_type": "markdown",
   "id": "cc148c5d",
   "metadata": {},
   "source": [
    "# robust scaler"
   ]
  },
  {
   "cell_type": "code",
   "execution_count": 65,
   "id": "77815cad",
   "metadata": {},
   "outputs": [],
   "source": [
    "from sklearn.preprocessing import RobustScaler"
   ]
  },
  {
   "cell_type": "code",
   "execution_count": 76,
   "id": "8340828d",
   "metadata": {},
   "outputs": [],
   "source": [
    "RS=RobustScaler()"
   ]
  },
  {
   "cell_type": "code",
   "execution_count": 82,
   "id": "ceaa077a",
   "metadata": {},
   "outputs": [],
   "source": [
    "outliers_df=RS.fit_transform(outliers_df)"
   ]
  },
  {
   "cell_type": "code",
   "execution_count": 86,
   "id": "718f3e41",
   "metadata": {},
   "outputs": [
    {
     "data": {
      "text/plain": [
       "array([[  0.16036713,   0.31579163],\n",
       "       [  0.08196911,  -0.67849856],\n",
       "       [  0.09519857,  -1.14583329],\n",
       "       ...,\n",
       "       [-14.09072745,  16.60866545],\n",
       "       [-14.02999348,  12.73899908],\n",
       "       [-13.85660118,  15.37065075]])"
      ]
     },
     "execution_count": 86,
     "metadata": {},
     "output_type": "execute_result"
    }
   ],
   "source": [
    "outliers_df"
   ]
  },
  {
   "cell_type": "code",
   "execution_count": 90,
   "id": "df07bf45",
   "metadata": {},
   "outputs": [],
   "source": [
    "outliers_df = pd.DataFrame(outliers_df,columns=['x1','x2'])"
   ]
  },
  {
   "cell_type": "code",
   "execution_count": 91,
   "id": "236e1249",
   "metadata": {},
   "outputs": [
    {
     "data": {
      "text/html": [
       "<div>\n",
       "<style scoped>\n",
       "    .dataframe tbody tr th:only-of-type {\n",
       "        vertical-align: middle;\n",
       "    }\n",
       "\n",
       "    .dataframe tbody tr th {\n",
       "        vertical-align: top;\n",
       "    }\n",
       "\n",
       "    .dataframe thead th {\n",
       "        text-align: right;\n",
       "    }\n",
       "</style>\n",
       "<table border=\"1\" class=\"dataframe\">\n",
       "  <thead>\n",
       "    <tr style=\"text-align: right;\">\n",
       "      <th></th>\n",
       "      <th>x1</th>\n",
       "      <th>x2</th>\n",
       "    </tr>\n",
       "  </thead>\n",
       "  <tbody>\n",
       "    <tr>\n",
       "      <th>0</th>\n",
       "      <td>0.160367</td>\n",
       "      <td>0.315792</td>\n",
       "    </tr>\n",
       "    <tr>\n",
       "      <th>1</th>\n",
       "      <td>0.081969</td>\n",
       "      <td>-0.678499</td>\n",
       "    </tr>\n",
       "    <tr>\n",
       "      <th>2</th>\n",
       "      <td>0.095199</td>\n",
       "      <td>-1.145833</td>\n",
       "    </tr>\n",
       "    <tr>\n",
       "      <th>3</th>\n",
       "      <td>1.101897</td>\n",
       "      <td>-0.006460</td>\n",
       "    </tr>\n",
       "    <tr>\n",
       "      <th>4</th>\n",
       "      <td>-0.466400</td>\n",
       "      <td>0.370996</td>\n",
       "    </tr>\n",
       "    <tr>\n",
       "      <th>...</th>\n",
       "      <td>...</td>\n",
       "      <td>...</td>\n",
       "    </tr>\n",
       "    <tr>\n",
       "      <th>1020</th>\n",
       "      <td>-16.729829</td>\n",
       "      <td>16.796971</td>\n",
       "    </tr>\n",
       "    <tr>\n",
       "      <th>1021</th>\n",
       "      <td>-13.971709</td>\n",
       "      <td>17.164505</td>\n",
       "    </tr>\n",
       "    <tr>\n",
       "      <th>1022</th>\n",
       "      <td>-14.090727</td>\n",
       "      <td>16.608665</td>\n",
       "    </tr>\n",
       "    <tr>\n",
       "      <th>1023</th>\n",
       "      <td>-14.029993</td>\n",
       "      <td>12.738999</td>\n",
       "    </tr>\n",
       "    <tr>\n",
       "      <th>1024</th>\n",
       "      <td>-13.856601</td>\n",
       "      <td>15.370651</td>\n",
       "    </tr>\n",
       "  </tbody>\n",
       "</table>\n",
       "<p>1025 rows × 2 columns</p>\n",
       "</div>"
      ],
      "text/plain": [
       "             x1         x2\n",
       "0      0.160367   0.315792\n",
       "1      0.081969  -0.678499\n",
       "2      0.095199  -1.145833\n",
       "3      1.101897  -0.006460\n",
       "4     -0.466400   0.370996\n",
       "...         ...        ...\n",
       "1020 -16.729829  16.796971\n",
       "1021 -13.971709  17.164505\n",
       "1022 -14.090727  16.608665\n",
       "1023 -14.029993  12.738999\n",
       "1024 -13.856601  15.370651\n",
       "\n",
       "[1025 rows x 2 columns]"
      ]
     },
     "execution_count": 91,
     "metadata": {},
     "output_type": "execute_result"
    }
   ],
   "source": [
    "outliers_df"
   ]
  },
  {
   "cell_type": "code",
   "execution_count": 92,
   "id": "f7511977",
   "metadata": {},
   "outputs": [
    {
     "data": {
      "text/plain": [
       "<Axes: ylabel='Density'>"
      ]
     },
     "execution_count": 92,
     "metadata": {},
     "output_type": "execute_result"
    },
    {
     "data": {
      "image/png": "[encoded data removed]",
      "text/plain": [
       "<Figure size 640x480 with 1 Axes>"
      ]
     },
     "metadata": {},
     "output_type": "display_data"
    }
   ],
   "source": [
    "outliers_df.plot.kde()"
   ]
  },
  {
   "cell_type": "code",
   "execution_count": null,
   "id": "9b0947e1",
   "metadata": {},
   "outputs": [],
   "source": []
  }
 ],
 "metadata": {
  "kernelspec": {
   "display_name": "Python 3 (ipykernel)",
   "language": "python",
   "name": "python3"
  },
  "language_info": {
   "codemirror_mode": {
    "name": "ipython",
    "version": 3
   },
   "file_extension": ".py",
   "mimetype": "text/x-python",
   "name": "python",
   "nbconvert_exporter": "python",
   "pygments_lexer": "ipython3",
   "version": "3.9.17"
  }
 },
 "nbformat": 4,
 "nbformat_minor": 5
}
