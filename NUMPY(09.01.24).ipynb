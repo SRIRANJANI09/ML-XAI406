{
 "cells": [
  {
   "cell_type": "markdown",
   "id": "932563a7",
   "metadata": {},
   "source": [
    "install numpy(numerical python)"
   ]
  },
  {
   "cell_type": "code",
   "execution_count": 2,
   "id": "39da9a87",
   "metadata": {},
   "outputs": [
    {
     "name": "stdout",
     "output_type": "stream",
     "text": [
      "Requirement already satisfied: numpy in c:\\users\\admin\\anaconda3\\lib\\site-packages (1.21.5)\n",
      "Note: you may need to restart the kernel to use updated packages.\n"
     ]
    }
   ],
   "source": [
    "pip install numpy"
   ]
  },
  {
   "cell_type": "markdown",
   "id": "9082afcc",
   "metadata": {},
   "source": [
    "importing library"
   ]
  },
  {
   "cell_type": "code",
   "execution_count": 3,
   "id": "f1fb70c0",
   "metadata": {},
   "outputs": [],
   "source": [
    "import numpy as np"
   ]
  },
  {
   "cell_type": "code",
   "execution_count": 4,
   "id": "ad5ae7e1",
   "metadata": {},
   "outputs": [
    {
     "data": {
      "text/plain": [
       "'1.21.5'"
      ]
     },
     "execution_count": 4,
     "metadata": {},
     "output_type": "execute_result"
    }
   ],
   "source": [
    "np.version.version"
   ]
  },
  {
   "cell_type": "markdown",
   "id": "e94b038f",
   "metadata": {},
   "source": [
    "creating 1d array"
   ]
  },
  {
   "cell_type": "code",
   "execution_count": 8,
   "id": "500b493b",
   "metadata": {},
   "outputs": [
    {
     "name": "stdout",
     "output_type": "stream",
     "text": [
      "[11 12 13 14 15]\n"
     ]
    }
   ],
   "source": [
    "college=np.array([11,12,13,14,15])\n",
    "print(college)"
   ]
  },
  {
   "cell_type": "code",
   "execution_count": 17,
   "id": "9c0bfc95",
   "metadata": {},
   "outputs": [
    {
     "name": "stdout",
     "output_type": "stream",
     "text": [
      "[[13 14 15]\n",
      " [16 17 18]]\n"
     ]
    }
   ],
   "source": [
    "school=np.array([(13,14,15),(16,17,18)])\n",
    "print(school)"
   ]
  },
  {
   "cell_type": "code",
   "execution_count": 15,
   "id": "8b65ebb0",
   "metadata": {},
   "outputs": [
    {
     "name": "stdout",
     "output_type": "stream",
     "text": [
      "[[[10 11 12]\n",
      "  [13 14 15]]\n",
      "\n",
      " [[16 17 18]\n",
      "  [19 20 21]]]\n"
     ]
    }
   ],
   "source": [
    "p_school=np.array([[(10,11,12),(13,14,15)],[(16,17,18),(19,20,21)]])\n",
    "print(p_school)"
   ]
  },
  {
   "cell_type": "code",
   "execution_count": 24,
   "id": "ba5783bb",
   "metadata": {},
   "outputs": [
    {
     "name": "stdout",
     "output_type": "stream",
     "text": [
      "[[0. 0. 0. 0. 0. 0. 0. 0. 0.]\n",
      " [0. 0. 0. 0. 0. 0. 0. 0. 0.]\n",
      " [0. 0. 0. 0. 0. 0. 0. 0. 0.]\n",
      " [0. 0. 0. 0. 0. 0. 0. 0. 0.]\n",
      " [0. 0. 0. 0. 0. 0. 0. 0. 0.]\n",
      " [0. 0. 0. 0. 0. 0. 0. 0. 0.]\n",
      " [0. 0. 0. 0. 0. 0. 0. 0. 0.]\n",
      " [0. 0. 0. 0. 0. 0. 0. 0. 0.]\n",
      " [0. 0. 0. 0. 0. 0. 0. 0. 0.]]\n"
     ]
    }
   ],
   "source": [
    "zero_array=np.zeros((9,9))\n",
    "print(zero_array)"
   ]
  },
  {
   "cell_type": "code",
   "execution_count": 25,
   "id": "b86ba88f",
   "metadata": {},
   "outputs": [
    {
     "name": "stdout",
     "output_type": "stream",
     "text": [
      "[[1. 1. 1. 1. 1. 1. 1. 1. 1.]\n",
      " [1. 1. 1. 1. 1. 1. 1. 1. 1.]\n",
      " [1. 1. 1. 1. 1. 1. 1. 1. 1.]\n",
      " [1. 1. 1. 1. 1. 1. 1. 1. 1.]\n",
      " [1. 1. 1. 1. 1. 1. 1. 1. 1.]]\n"
     ]
    }
   ],
   "source": [
    "one_array=np.ones((5,9))\n",
    "print(one_array)\n"
   ]
  },
  {
   "cell_type": "markdown",
   "id": "c9dc0dfa",
   "metadata": {},
   "source": [
    "linspace"
   ]
  },
  {
   "cell_type": "code",
   "execution_count": 26,
   "id": "969a953c",
   "metadata": {},
   "outputs": [
    {
     "name": "stdout",
     "output_type": "stream",
     "text": [
      "[ 0.          0.20408163  0.40816327  0.6122449   0.81632653  1.02040816\n",
      "  1.2244898   1.42857143  1.63265306  1.83673469  2.04081633  2.24489796\n",
      "  2.44897959  2.65306122  2.85714286  3.06122449  3.26530612  3.46938776\n",
      "  3.67346939  3.87755102  4.08163265  4.28571429  4.48979592  4.69387755\n",
      "  4.89795918  5.10204082  5.30612245  5.51020408  5.71428571  5.91836735\n",
      "  6.12244898  6.32653061  6.53061224  6.73469388  6.93877551  7.14285714\n",
      "  7.34693878  7.55102041  7.75510204  7.95918367  8.16326531  8.36734694\n",
      "  8.57142857  8.7755102   8.97959184  9.18367347  9.3877551   9.59183673\n",
      "  9.79591837 10.        ]\n"
     ]
    }
   ],
   "source": [
    "lin_space=np.linspace(0,10,50)\n",
    "print(lin_space)"
   ]
  },
  {
   "cell_type": "code",
   "execution_count": 27,
   "id": "6af71639",
   "metadata": {},
   "outputs": [
    {
     "name": "stdout",
     "output_type": "stream",
     "text": [
      "[2005 2006]\n"
     ]
    }
   ],
   "source": [
    "dob=np.array([2005,2006])\n",
    "print(dob)"
   ]
  },
  {
   "cell_type": "code",
   "execution_count": 29,
   "id": "05160469",
   "metadata": {},
   "outputs": [
    {
     "name": "stdout",
     "output_type": "stream",
     "text": [
      "[[1. 1.]\n",
      " [1. 1.]]\n"
     ]
    }
   ],
   "source": [
    "arr_ones=np.ones((2,2))\n",
    "print(arr_ones)"
   ]
  },
  {
   "cell_type": "code",
   "execution_count": 32,
   "id": "9a6ac94f",
   "metadata": {},
   "outputs": [
    {
     "name": "stdout",
     "output_type": "stream",
     "text": [
      "[[18 17 19]\n",
      " [13 15 19]]\n"
     ]
    }
   ],
   "source": [
    "m_m=np.array([(18,17,19),(13,15,19)])\n",
    "print(m_m)\n"
   ]
  },
  {
   "cell_type": "markdown",
   "id": "db828e95",
   "metadata": {},
   "source": [
    "transpose operation"
   ]
  },
  {
   "cell_type": "code",
   "execution_count": 34,
   "id": "064bff50",
   "metadata": {},
   "outputs": [
    {
     "name": "stdout",
     "output_type": "stream",
     "text": [
      "[[18 13]\n",
      " [17 15]\n",
      " [19 19]]\n"
     ]
    }
   ],
   "source": [
    "matrix_t=np.transpose(m_m)\n",
    "print(matrix_t)"
   ]
  },
  {
   "cell_type": "markdown",
   "id": "0f08e76a",
   "metadata": {},
   "source": [
    "mcq\n",
    "ravel()function: multi dimensions into single dimension is flatten"
   ]
  },
  {
   "cell_type": "code",
   "execution_count": 36,
   "id": "61e673ec",
   "metadata": {},
   "outputs": [
    {
     "data": {
      "text/plain": [
       "array([18, 13, 17, 15, 19, 19])"
      ]
     },
     "execution_count": 36,
     "metadata": {},
     "output_type": "execute_result"
    }
   ],
   "source": [
    "matrix_t.ravel()"
   ]
  },
  {
   "cell_type": "code",
   "execution_count": 51,
   "id": "efdb3308",
   "metadata": {},
   "outputs": [
    {
     "name": "stdout",
     "output_type": "stream",
     "text": [
      "[[18 13]\n",
      " [17 15]\n",
      " [19 19]]\n"
     ]
    }
   ],
   "source": [
    "matrix_t.reshape(2,3)\n",
    "print(matrix_t)"
   ]
  },
  {
   "cell_type": "code",
   "execution_count": 54,
   "id": "ff4f0f8b",
   "metadata": {},
   "outputs": [
    {
     "name": "stdout",
     "output_type": "stream",
     "text": [
      "[[1. 1. 1. 1.]\n",
      " [0. 0. 0. 0.]]\n"
     ]
    }
   ],
   "source": [
    "arr_ones.resize(2,4)\n",
    "print(arr_ones)"
   ]
  },
  {
   "cell_type": "code",
   "execution_count": 62,
   "id": "eea651b4",
   "metadata": {},
   "outputs": [
    {
     "data": {
      "text/plain": [
       "array([[0.09301522, 0.27400016],\n",
       "       [0.78508314, 0.74697491]])"
      ]
     },
     "execution_count": 62,
     "metadata": {},
     "output_type": "execute_result"
    }
   ],
   "source": [
    "np.random.random((2,2))\n"
   ]
  },
  {
   "cell_type": "code",
   "execution_count": null,
   "id": "1f510c0b",
   "metadata": {},
   "outputs": [],
   "source": []
  }
 ],
 "metadata": {
  "kernelspec": {
   "display_name": "Python 3 (ipykernel)",
   "language": "python",
   "name": "python3"
  },
  "language_info": {
   "codemirror_mode": {
    "name": "ipython",
    "version": 3
   },
   "file_extension": ".py",
   "mimetype": "text/x-python",
   "name": "python",
   "nbconvert_exporter": "python",
   "pygments_lexer": "ipython3",
   "version": "3.9.17"
  }
 },
 "nbformat": 4,
 "nbformat_minor": 5
}
