{
 "cells": [
  {
   "cell_type": "markdown",
   "id": "a9c51140",
   "metadata": {},
   "source": [
    "# install library"
   ]
  },
  {
   "cell_type": "code",
   "execution_count": 1,
   "id": "79c21c66",
   "metadata": {
    "scrolled": false
   },
   "outputs": [
    {
     "name": "stdout",
     "output_type": "stream",
     "text": [
      "Collecting bing-image-downloader\n",
      "  Downloading bing_image_downloader-1.1.2-py3-none-any.whl (5.9 kB)\n",
      "Installing collected packages: bing-image-downloader\n",
      "Successfully installed bing-image-downloader-1.1.2\n",
      "Note: you may need to restart the kernel to use updated packages.\n"
     ]
    }
   ],
   "source": [
    "pip install bing-image-downloader"
   ]
  },
  {
   "cell_type": "markdown",
   "id": "8e262032",
   "metadata": {},
   "source": [
    "# import  function downloader"
   ]
  },
  {
   "cell_type": "code",
   "execution_count": 3,
   "id": "ee62cff1",
   "metadata": {},
   "outputs": [],
   "source": [
    "from bing_image_downloader import downloader"
   ]
  },
  {
   "cell_type": "code",
   "execution_count": 5,
   "id": "a7093a69",
   "metadata": {},
   "outputs": [
    {
     "name": "stdout",
     "output_type": "stream",
     "text": [
      "[%] Downloading Images to C:\\Users\\Admin\\Documents\\SEM 4 ML(sri)\\dataset\\navy\n",
      "\n",
      "\n",
      "[!!]Indexing page: 1\n",
      "\n",
      "[%] Indexed 30 Images on Page 1.\n",
      "\n",
      "===============================================\n",
      "\n",
      "[%] Downloading Image #1 from https://i.pinimg.com/originals/6e/9f/de/6e9fdef109927697ccfe946f8328f2c2.png\n",
      "[%] File Downloaded !\n",
      "\n",
      "[%] Downloading Image #2 from http://upload.wikimedia.org/wikipedia/commons/4/47/US_Navy_050125-N-9600H-123_Sailors_watch_from_the_flight_deck_of_USS_Dwight_D._Eisenhower_(CVN_69)_during_her_arrival_at_Naval_Station_Norfolk%2C_Va.jpg\n",
      "[%] File Downloaded !\n",
      "\n",
      "[%] Downloading Image #3 from https://navalpost.com/wp-content/uploads/2021/03/us-navy-japan-navy3.jpg\n",
      "[%] File Downloaded !\n",
      "\n",
      "[%] Downloading Image #4 from http://upload.wikimedia.org/wikipedia/commons/f/f8/US_Navy_090426-N-9988F-135_The_aircraft_carrier_USS_Dwight_D._Eisenhower_(CVN_69)_operates_in_the_Arabian_Sea_displaying_signal_flags_that_read_IKE,_CVN_69,_GR8R_EACH_DAY.jpg\n",
      "[%] File Downloaded !\n",
      "\n",
      "[%] Downloading Image #5 from http://upload.wikimedia.org/wikipedia/commons/a/ac/US_Navy_101021-N-7642M-317_USS_Constitution_returns_to_her_pier_after_an_underway_to_celebrate_her_213th_launching_day_anniversary.jpg\n",
      "[%] File Downloaded !\n",
      "\n",
      "[%] Downloading Image #6 from http://upload.wikimedia.org/wikipedia/commons/7/72/Navy_One.jpg\n",
      "[%] File Downloaded !\n",
      "\n",
      "[%] Downloading Image #7 from http://farm3.static.flickr.com/2184/1844953614_2fff1cd5c0_o.jpg\n",
      "[%] File Downloaded !\n",
      "\n",
      "[%] Downloading Image #8 from http://nationalinterest.org/files/main_images/uss-freedom-rear-130222-n-dr144-367_0.jpg\n",
      "[%] File Downloaded !\n",
      "\n",
      "[%] Downloading Image #9 from http://wallpapercave.com/wp/Hcl0dRh.jpg\n",
      "[%] File Downloaded !\n",
      "\n",
      "[%] Downloading Image #10 from https://cdn.wallpapersafari.com/32/61/5Tz4ZY.jpg\n",
      "[%] File Downloaded !\n",
      "\n",
      "[%] Downloading Image #11 from https://cdn.wallpapersafari.com/82/63/F6vlAC.jpg\n",
      "[%] File Downloaded !\n",
      "\n",
      "[%] Downloading Image #12 from https://images02.military.com/sites/default/files/2018-10/USS-Montgomery-1800.jpg\n",
      "[%] File Downloaded !\n",
      "\n",
      "[%] Downloading Image #13 from https://cdn.wallpapersafari.com/96/81/ycoIsg.jpg\n",
      "[%] File Downloaded !\n",
      "\n",
      "[%] Downloading Image #14 from http://upload.wikimedia.org/wikipedia/commons/0/05/US_Navy_110217-N-WO496-001_Sailors_spell_out.jpg\n",
      "[!] Issue getting: http://upload.wikimedia.org/wikipedia/commons/0/05/US_Navy_110217-N-WO496-001_Sailors_spell_out.jpg\n",
      "[!] Error:: <urlopen error [WinError 10060] A connection attempt failed because the connected party did not properly respond after a period of time, or established connection failed because connected host has failed to respond>\n",
      "[%] Downloading Image #14 from https://cdn0.vox-cdn.com/thumbor/jNXeeZdsJiMTYdQmyF6IaQ8Mb9E=/0x17:1024x593/1600x900/cdn0.vox-cdn.com/uploads/chorus_image/image/50303501/navy.0.0.jpg\n",
      "[%] File Downloaded !\n",
      "\n",
      "[%] Downloading Image #15 from https://c1.staticflickr.com/5/4856/44300852230_4bcf26a2af_k.jpg\n",
      "[%] File Downloaded !\n",
      "\n",
      "[%] Downloading Image #16 from https://image.cnbcfm.com/api/v1/image/106544564-158992687681749516302191_7c73611715_k.jpg?v=1589927046\n",
      "[%] File Downloaded !\n",
      "\n",
      "[%] Downloading Image #17 from http://wallpapercave.com/wp/vjJpH5a.jpg\n",
      "[%] File Downloaded !\n",
      "\n",
      "[%] Downloading Image #18 from http://upload.wikimedia.org/wikipedia/commons/1/10/US_Navy_061121-N-2716P-002_U.S._Navy_High-Speed_Vessel_Swift_(HSV_2)_maneuvers_through_Yokosuka_Bay%2C_as_it_departs_Commander_Fleet_Activities_Yokosuka%2C_Japan_following_a_routine_port_visit.jpg\n",
      "[%] File Downloaded !\n",
      "\n",
      "[%] Downloading Image #19 from https://1.bp.blogspot.com/-w4M7V4LtsAs/V6_ZXVO0ICI/AAAAAAAAED8/z-jtCpRw22M66OM77Owhn66LDNA7Rt0RwCLcB/s1600/1018115019.jpg\n",
      "[%] File Downloaded !\n",
      "\n",
      "[%] Downloading Image #20 from https://www.techsling.com/wp-content/uploads/2017/12/us-navy.jpeg\n",
      "[!] Issue getting: https://www.techsling.com/wp-content/uploads/2017/12/us-navy.jpeg\n",
      "[!] Error:: HTTP Error 521: \n",
      "[%] Downloading Image #20 from https://hcsblogdotorg.files.wordpress.com/2016/04/navy.jpg\n",
      "[!] Issue getting: https://hcsblogdotorg.files.wordpress.com/2016/04/navy.jpg\n",
      "[!] Error:: HTTP Error 404: Not Found\n",
      "[%] Downloading Image #20 from https://breakingnewsalerts.com/wp-content/uploads/2019/12/US-Navy-Featured.jpg\n",
      "[%] File Downloaded !\n",
      "\n",
      "[%] Downloading Image #21 from http://wallup.net/wp-content/uploads/2016/01/269328-military-navy-ship-aircraft_carrier-United_States_Navy.jpg\n",
      "[%] File Downloaded !\n",
      "\n",
      "[%] Downloading Image #22 from http://static.guim.co.uk/sys-images/Guardian/About/General/2012/7/16/1342459500409/US-Navy-USNS-Rappahannock-008.jpg\n",
      "[%] File Downloaded !\n",
      "\n",
      "[%] Downloading Image #23 from https://media.defense.gov/2015/Jul/03/2002442130/600/400/0/150703-N-ZZ999-015.jpg\n",
      "[%] File Downloaded !\n",
      "\n",
      "[%] Downloading Image #24 from https://www.thoughtco.com/thmb/8LUeJVAONi5tlPFOTyNjxHvuHR8=/5028x3349/filters:fill(auto,1)/fleet-of-military-ships-at-sea-in-arabian-gulf--may-2003-200200836-001-59ab108e03f4020011e771c7.jpg\n",
      "[%] File Downloaded !\n",
      "\n",
      "[%] Downloading Image #25 from http://2.bp.blogspot.com/_69u2CK25Cas/Sebzj5NO51I/AAAAAAAAKYg/1qBzQ9BwBCc/s400/US+NAvy+Lima+1.jpg\n",
      "[%] File Downloaded !\n",
      "\n",
      "[%] Downloading Image #26 from https://www.royalnavy.mod.uk/-/media/royal-navy-responsive/images/news/submarines/artful/160711-royal-welcome-newest-submariners/ne160124020.jpg??cropregion=0,8,1295,700&amp;hash=F440BE52A43A75165854D5667BC259C0D754B457\n",
      "[%] File Downloaded !\n",
      "\n",
      "[%] Downloading Image #27 from https://cdn.eteknix.com/wp-content/uploads/2014/06/US_Navy.jpg\n",
      "[%] File Downloaded !\n",
      "\n",
      "\n",
      "\n",
      "[!!]Indexing page: 2\n",
      "\n",
      "[%] No more images are available\n",
      "\n",
      "\n",
      "[%] Done. Downloaded 27 images.\n"
     ]
    }
   ],
   "source": [
    "downloader.download(\"navy\",limit=30 ,output_dir=\"dataset\",adult_filter_off=True)"
   ]
  },
  {
   "cell_type": "code",
   "execution_count": null,
   "id": "01bccccf",
   "metadata": {},
   "outputs": [],
   "source": []
  }
 ],
 "metadata": {
  "kernelspec": {
   "display_name": "Python 3 (ipykernel)",
   "language": "python",
   "name": "python3"
  },
  "language_info": {
   "codemirror_mode": {
    "name": "ipython",
    "version": 3
   },
   "file_extension": ".py",
   "mimetype": "text/x-python",
   "name": "python",
   "nbconvert_exporter": "python",
   "pygments_lexer": "ipython3",
   "version": "3.9.17"
  }
 },
 "nbformat": 4,
 "nbformat_minor": 5
}
